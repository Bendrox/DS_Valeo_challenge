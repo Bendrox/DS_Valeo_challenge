{
 "cells": [
  {
   "cell_type": "markdown",
   "metadata": {},
   "source": [
    "##### Option 8 : SMAC (Sequential Model-based Algorithm Configuration)\n",
    "\n",
    "\n",
    "SMAC est un framework d'optimisation basé sur des modèles séquentiels. Il est principalement utilisé pour automatiser la recherche des meilleurs hyperparamètres pour un algorithme d'apprentissage automatique donné. SMAC utilise des modèles statistiques pour modéliser la relation entre les hyperparamètres et la fonction de coût. Il recherche les hyperparamètres les plus prometteurs en utilisant une approche séquentielle, en essayant de minimiser la fonction de coût prédite par le modèle.\n",
    "SMAC équilibre l'exploitation (exploration des valeurs déjà connues prometteuses) et l'exploration (essai de nouvelles valeurs) pour rechercher efficacement l'espace des hyperparamètres."
   ]
  },
  {
   "cell_type": "code",
   "execution_count": null,
   "metadata": {},
   "outputs": [
    {
     "name": "stdout",
     "output_type": "stream",
     "text": [
      "1.3.1\n"
     ]
    }
   ],
   "source": [
    "import sklearn\n",
    "print(sklearn.__version__)"
   ]
  },
  {
   "cell_type": "code",
   "execution_count": null,
   "metadata": {},
   "outputs": [],
   "source": [
    "from smac import HyperparameterOptimizationFacade, Scenario\n",
    "from ConfigSpace import Configuration, ConfigurationSpace"
   ]
  },
  {
   "cell_type": "code",
   "execution_count": null,
   "metadata": {},
   "outputs": [
    {
     "name": "stdout",
     "output_type": "stream",
     "text": [
      "[INFO][abstract_initial_design.py:95] Reducing the number of initial configurations from 40 to 25 (max_ratio == 0.25).\n",
      "[INFO][abstract_initial_design.py:147] Using 25 initial design configurations and 0 additional configurations.\n",
      "[INFO][abstract_intensifier.py:305] Using only one seed for deterministic scenario.\n",
      "[INFO][abstract_intensifier.py:515] Added config e78956 as new incumbent because there are no incumbents yet.\n",
      "[INFO][abstract_intensifier.py:590] Added config e9f04d and rejected config e78956 as incumbent because it is not better than the incumbents on 1 instances:\n",
      "[INFO][abstract_intensifier.py:590] Added config 3c8e29 and rejected config e9f04d as incumbent because it is not better than the incumbents on 1 instances:\n",
      "[INFO][abstract_intensifier.py:590] Added config d2151e and rejected config 3c8e29 as incumbent because it is not better than the incumbents on 1 instances:\n",
      "[INFO][abstract_intensifier.py:590] Added config 0029c0 and rejected config d2151e as incumbent because it is not better than the incumbents on 1 instances:\n",
      "[INFO][abstract_intensifier.py:590] Added config b56f6c and rejected config 0029c0 as incumbent because it is not better than the incumbents on 1 instances:\n",
      "[INFO][smbo.py:319] Finished 50 trials.\n",
      "[INFO][abstract_intensifier.py:590] Added config 63d649 and rejected config b56f6c as incumbent because it is not better than the incumbents on 1 instances:\n",
      "[INFO][abstract_intensifier.py:590] Added config c8215a and rejected config 63d649 as incumbent because it is not better than the incumbents on 1 instances:\n",
      "[INFO][abstract_intensifier.py:590] Added config ed4a77 and rejected config c8215a as incumbent because it is not better than the incumbents on 1 instances:\n",
      "[INFO][abstract_intensifier.py:590] Added config b484ef and rejected config ed4a77 as incumbent because it is not better than the incumbents on 1 instances:\n",
      "[INFO][abstract_intensifier.py:590] Added config 9d8f31 and rejected config b484ef as incumbent because it is not better than the incumbents on 1 instances:\n",
      "[INFO][smbo.py:319] Finished 100 trials.\n",
      "[INFO][smbo.py:327] Configuration budget is exhausted:\n",
      "[INFO][smbo.py:328] --- Remaining wallclock time: inf\n",
      "[INFO][smbo.py:329] --- Remaining cpu time: inf\n",
      "[INFO][smbo.py:330] --- Remaining trials: 0\n"
     ]
    }
   ],
   "source": [
    "from ConfigSpace import Configuration, ConfigurationSpace\n",
    "\n",
    "import numpy as np\n",
    "from smac import HyperparameterOptimizationFacade, Scenario\n",
    "from sklearn import datasets\n",
    "from sklearn.svm import SVC\n",
    "from sklearn.model_selection import cross_val_score\n",
    "\n",
    "\n",
    "def train(config: Configuration, seed: int = 0) -> float:\n",
    "    classifier = xgb.XGBClassifier(\n",
    "        n_estimators=config[\"n_estimators\"],\n",
    "        max_depth=config[\"max_depth\"],\n",
    "        learning_rate=config[\"learning_rate\"],\n",
    "        subsample=config[\"subsample\"],\n",
    "        random_state=seed,\n",
    "    )\n",
    "    scores = cross_val_score(classifier, X_train, y_train, cv=5, scoring='roc_auc')\n",
    "    return 1 - np.mean(scores)\n",
    "\n",
    "\n",
    "configspace = ConfigurationSpace(\n",
    "    {\n",
    "        \"n_estimators\": (100, 300),\n",
    "        \"max_depth\": (3, 5),\n",
    "        \"learning_rate\": (0.01, 0.1),\n",
    "        \"subsample\": (0.7, 0.9),\n",
    "    }\n",
    ")\n",
    "\n",
    "# Scenario object specifying the optimization environment\n",
    "scenario = Scenario(configspace, \n",
    "                    deterministic=True, \n",
    "                    n_trials=100)\n",
    "\n",
    "# Use SMAC to find the best configuration/hyperparameters\n",
    "smac = HyperparameterOptimizationFacade(scenario, train)\n",
    "incumbent = smac.optimize()"
   ]
  },
  {
   "cell_type": "code",
   "execution_count": null,
   "metadata": {},
   "outputs": [
    {
     "data": {
      "text/plain": [
       "Configuration(values={\n",
       "  'learning_rate': 0.03262062454444592,\n",
       "  'max_depth': 3,\n",
       "  'n_estimators': 112,\n",
       "  'subsample': 0.8326811548710518,\n",
       "})"
      ]
     },
     "metadata": {},
     "output_type": "display_data"
    }
   ],
   "source": [
    "incumbent"
   ]
  }
 ],
 "metadata": {
  "language_info": {
   "name": "python"
  },
  "orig_nbformat": 4
 },
 "nbformat": 4,
 "nbformat_minor": 2
}
