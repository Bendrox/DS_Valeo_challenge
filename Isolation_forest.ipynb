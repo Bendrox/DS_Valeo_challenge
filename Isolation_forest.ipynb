{
 "cells": [
  {
   "cell_type": "markdown",
   "metadata": {},
   "source": [
    "## Isolation Forest"
   ]
  },
  {
   "cell_type": "code",
   "execution_count": null,
   "metadata": {},
   "outputs": [],
   "source": [
    "from sklearn.ensemble import IsolationForest"
   ]
  },
  {
   "cell_type": "code",
   "execution_count": null,
   "metadata": {},
   "outputs": [
    {
     "name": "stdout",
     "output_type": "stream",
     "text": [
      "Les valeurs aberrantes détectées :\n",
      "[ 1 -1  1 ...  1 -1  1]\n"
     ]
    }
   ],
   "source": [
    "# Utiliser Isolation Forest pour détecter les valeurs aberrantes\n",
    "clf = IsolationForest(contamination=0.1, random_state=42)\n",
    "clf.fit(X_test_XGBOD)\n",
    "y_pred = clf.predict(X_test_XGBOD)\n",
    "\n",
    "# Afficher les résultats de la détection des valeurs aberrantes\n",
    "print(\"Les valeurs aberrantes détectées :\")\n",
    "print(y_pred)"
   ]
  }
 ],
 "metadata": {
  "language_info": {
   "name": "python"
  }
 },
 "nbformat": 4,
 "nbformat_minor": 2
}
