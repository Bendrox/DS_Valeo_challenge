{
 "cells": [
  {
   "cell_type": "markdown",
   "metadata": {},
   "source": [
    "\n",
    "##### Extra : Random Forest "
   ]
  },
  {
   "cell_type": "markdown",
   "metadata": {},
   "source": [
    "Dataset disponibles :\n",
    "- X_train : avec valeurs Nan , sans transformation (Hyperplot+300 -> 0.677)\n",
    "- X_train_forest_imputed : Nan imputés avec Forest (Hyperplot+300 -> 0.673)\n",
    "- X__Mice_imputed : Nan imputés avec Mice  (Hyperplot+300 -> 0.672)\n",
    "- X_poly_2_No_nan : Nan imputés avec Forest + polynomes et interractions  (Hyperplot+300 -> 0.657)\n",
    "- X_train_RandomUnderSampler , y_train_RandomUnderSampler : données parfaitement équilibrées mais moins importantes. (Hyperplot+300 -> 0.65) \n",
    "- X_train_del : imputation will bring a lot of noise (Hyperplot+300 -> 0.672, 1000 -> 0.673)\n",
    "- X_train_poly2_outnan : polynomes sans OP100 (nan values) (Hyperplot+300 -> 0.657)\n",
    "\n",
    "Les tests nous montrent que quelque soit la méthode d'imputation retenue , il y a perte de performances. Ceci est très probablement du  au fait que la création de bruit par les méthodes d'imputation."
   ]
  },
  {
   "cell_type": "code",
   "execution_count": 20,
   "metadata": {},
   "outputs": [],
   "source": [
    "import pandas as pd\n",
    "import numpy as np\n",
    "data_x = pd.read_csv('traininginputs.csv')\n",
    "data_y = pd.read_csv('trainingoutput.csv')\n",
    "data = pd.merge(data_x, data_y, on='PROC_TRACEINFO', how ='inner')\n",
    "data = data.drop('PROC_TRACEINFO', axis =1 )\n",
    "data['Binar OP130_Resultat_Global_v'] = data['Binar OP130_Resultat_Global_v'].astype('category')\n",
    "data = data.dropna(subset=['OP100_Capuchon_insertion_mesure'])\n",
    "X_train = data.drop('Binar OP130_Resultat_Global_v', axis =1)\n",
    "y_train = data['Binar OP130_Resultat_Global_v']\n"
   ]
  },
  {
   "cell_type": "code",
   "execution_count": 21,
   "metadata": {},
   "outputs": [],
   "source": [
    "from sklearn.ensemble import RandomForestClassifier\n",
    "from sklearn.model_selection import train_test_split, cross_val_score, GridSearchCV"
   ]
  },
  {
   "cell_type": "code",
   "execution_count": 22,
   "metadata": {},
   "outputs": [],
   "source": [
    "import optuna\n",
    "import warnings\n",
    "warnings.filterwarnings('ignore')\n",
    "from optuna import Trial, create_study, study"
   ]
  },
  {
   "cell_type": "code",
   "execution_count": 24,
   "metadata": {},
   "outputs": [
    {
     "name": "stderr",
     "output_type": "stream",
     "text": [
      "[I 2023-11-04 15:30:21,339] A new study created in memory with name: no-name-f261dd97-a468-4bf4-92ec-197df3249a09\n",
      "[I 2023-11-04 15:30:21,341] A new study created in memory with name: no-name-27771be3-adc2-4f34-8b46-9a32f9c6ea36\n",
      "[I 2023-11-04 15:30:22,620] Trial 0 finished with value: 0.6444200958119483 and parameters: {'n_estimators': 126, 'max_depth': 1, 'min_samples_split': 10, 'min_samples_leaf': 5, 'min_weight_fraction_leaf': 0.20465821461164196}. Best is trial 0 with value: 0.6444200958119483.\n",
      "[I 2023-11-04 15:30:22,988] Trial 1 finished with value: 0.6391626438202633 and parameters: {'n_estimators': 60, 'max_depth': 2, 'min_samples_split': 10, 'min_samples_leaf': 4, 'min_weight_fraction_leaf': 0.24421403869311042}. Best is trial 0 with value: 0.6444200958119483.\n",
      "[I 2023-11-04 15:30:26,241] Trial 2 finished with value: 0.63865868567135 and parameters: {'n_estimators': 1068, 'max_depth': 2, 'min_samples_split': 8, 'min_samples_leaf': 2, 'min_weight_fraction_leaf': 0.3340206161692705}. Best is trial 0 with value: 0.6444200958119483.\n",
      "[I 2023-11-04 15:30:28,914] Trial 3 finished with value: 0.6288037619442868 and parameters: {'n_estimators': 846, 'max_depth': 9, 'min_samples_split': 9, 'min_samples_leaf': 9, 'min_weight_fraction_leaf': 0.34713246833562433}. Best is trial 0 with value: 0.6444200958119483.\n",
      "[I 2023-11-04 15:30:32,417] Trial 4 finished with value: 0.6452584541337825 and parameters: {'n_estimators': 552, 'max_depth': 6, 'min_samples_split': 2, 'min_samples_leaf': 5, 'min_weight_fraction_leaf': 0.03745908080202559}. Best is trial 4 with value: 0.6452584541337825.\n",
      "[I 2023-11-04 15:30:35,435] Trial 5 finished with value: 0.6378506839407663 and parameters: {'n_estimators': 948, 'max_depth': 1, 'min_samples_split': 2, 'min_samples_leaf': 10, 'min_weight_fraction_leaf': 0.32890928050569557}. Best is trial 4 with value: 0.6452584541337825.\n",
      "[I 2023-11-04 15:30:36,150] Trial 6 finished with value: 0.6198608716062303 and parameters: {'n_estimators': 183, 'max_depth': 1, 'min_samples_split': 8, 'min_samples_leaf': 8, 'min_weight_fraction_leaf': 0.43623586442278045}. Best is trial 4 with value: 0.6452584541337825.\n",
      "[I 2023-11-04 15:30:44,400] Trial 7 finished with value: 0.6480003730140631 and parameters: {'n_estimators': 1658, 'max_depth': 4, 'min_samples_split': 4, 'min_samples_leaf': 3, 'min_weight_fraction_leaf': 0.06935909219909836}. Best is trial 7 with value: 0.6480003730140631.\n",
      "[I 2023-11-04 15:30:48,837] Trial 8 finished with value: 0.6454116149117723 and parameters: {'n_estimators': 1250, 'max_depth': 8, 'min_samples_split': 2, 'min_samples_leaf': 10, 'min_weight_fraction_leaf': 0.22094985383232274}. Best is trial 7 with value: 0.6480003730140631.\n",
      "[I 2023-11-04 15:30:50,294] Trial 9 finished with value: 0.6107643821278554 and parameters: {'n_estimators': 342, 'max_depth': 8, 'min_samples_split': 8, 'min_samples_leaf': 9, 'min_weight_fraction_leaf': 0.4610447219004416}. Best is trial 7 with value: 0.6480003730140631.\n",
      "[I 2023-11-04 15:31:00,512] Trial 10 finished with value: 0.6384082519282254 and parameters: {'n_estimators': 1906, 'max_depth': 4, 'min_samples_split': 5, 'min_samples_leaf': 1, 'min_weight_fraction_leaf': 0.004236681900428432}. Best is trial 7 with value: 0.6480003730140631.\n",
      "[I 2023-11-04 15:31:07,301] Trial 11 finished with value: 0.6493694025145931 and parameters: {'n_estimators': 1555, 'max_depth': 6, 'min_samples_split': 4, 'min_samples_leaf': 7, 'min_weight_fraction_leaf': 0.11623720195406091}. Best is trial 11 with value: 0.6493694025145931.\n",
      "[I 2023-11-04 15:31:15,269] Trial 12 finished with value: 0.6485114566332963 and parameters: {'n_estimators': 1667, 'max_depth': 5, 'min_samples_split': 5, 'min_samples_leaf': 7, 'min_weight_fraction_leaf': 0.10750129220523863}. Best is trial 11 with value: 0.6493694025145931.\n",
      "[I 2023-11-04 15:31:21,911] Trial 13 finished with value: 0.6493903127100362 and parameters: {'n_estimators': 1485, 'max_depth': 6, 'min_samples_split': 4, 'min_samples_leaf': 7, 'min_weight_fraction_leaf': 0.12447077055923984}. Best is trial 13 with value: 0.6493903127100362.\n",
      "[I 2023-11-04 15:31:28,537] Trial 14 finished with value: 0.6477844222990252 and parameters: {'n_estimators': 1429, 'max_depth': 6, 'min_samples_split': 4, 'min_samples_leaf': 7, 'min_weight_fraction_leaf': 0.11245956457190273}. Best is trial 13 with value: 0.6493903127100362.\n",
      "[I 2023-11-04 15:31:36,761] Trial 15 finished with value: 0.6482338249025402 and parameters: {'n_estimators': 1948, 'max_depth': 7, 'min_samples_split': 6, 'min_samples_leaf': 7, 'min_weight_fraction_leaf': 0.15246563263629886}. Best is trial 13 with value: 0.6493903127100362.\n",
      "[I 2023-11-04 15:31:42,944] Trial 16 finished with value: 0.647753212671343 and parameters: {'n_estimators': 1459, 'max_depth': 10, 'min_samples_split': 4, 'min_samples_leaf': 6, 'min_weight_fraction_leaf': 0.15972860930934296}. Best is trial 13 with value: 0.6493903127100362.\n",
      "[I 2023-11-04 15:31:51,546] Trial 17 finished with value: 0.6478597321140738 and parameters: {'n_estimators': 1656, 'max_depth': 4, 'min_samples_split': 3, 'min_samples_leaf': 6, 'min_weight_fraction_leaf': 0.07820316951392325}. Best is trial 13 with value: 0.6493903127100362.\n",
      "[I 2023-11-04 15:31:56,825] Trial 18 finished with value: 0.6473072831261341 and parameters: {'n_estimators': 1252, 'max_depth': 7, 'min_samples_split': 6, 'min_samples_leaf': 8, 'min_weight_fraction_leaf': 0.1678657806185807}. Best is trial 13 with value: 0.6493903127100362.\n",
      "[I 2023-11-04 15:32:01,667] Trial 19 finished with value: 0.6407432445775088 and parameters: {'n_estimators': 709, 'max_depth': 5, 'min_samples_split': 6, 'min_samples_leaf': 4, 'min_weight_fraction_leaf': 0.006839182820068457}. Best is trial 13 with value: 0.6493903127100362.\n",
      "[I 2023-11-04 15:32:07,122] Trial 20 finished with value: 0.6493527785864314 and parameters: {'n_estimators': 1168, 'max_depth': 7, 'min_samples_split': 3, 'min_samples_leaf': 8, 'min_weight_fraction_leaf': 0.12398843151841876}. Best is trial 13 with value: 0.6493903127100362.\n",
      "[I 2023-11-04 15:32:12,714] Trial 21 finished with value: 0.6476470826526287 and parameters: {'n_estimators': 1179, 'max_depth': 8, 'min_samples_split': 3, 'min_samples_leaf': 8, 'min_weight_fraction_leaf': 0.11972831960939491}. Best is trial 13 with value: 0.6493903127100362.\n",
      "[I 2023-11-04 15:32:20,518] Trial 22 finished with value: 0.6483534322200655 and parameters: {'n_estimators': 1469, 'max_depth': 7, 'min_samples_split': 3, 'min_samples_leaf': 7, 'min_weight_fraction_leaf': 0.07808042468781462}. Best is trial 13 with value: 0.6493903127100362.\n",
      "[I 2023-11-04 15:32:27,450] Trial 23 finished with value: 0.6464725053707064 and parameters: {'n_estimators': 1796, 'max_depth': 6, 'min_samples_split': 5, 'min_samples_leaf': 9, 'min_weight_fraction_leaf': 0.1848824999675113}. Best is trial 13 with value: 0.6493903127100362.\n",
      "[I 2023-11-04 15:32:33,533] Trial 24 finished with value: 0.6469313306818035 and parameters: {'n_estimators': 1360, 'max_depth': 5, 'min_samples_split': 3, 'min_samples_leaf': 6, 'min_weight_fraction_leaf': 0.14386552981738565}. Best is trial 13 with value: 0.6493903127100362.\n",
      "[I 2023-11-04 15:32:38,045] Trial 25 finished with value: 0.646725813719053 and parameters: {'n_estimators': 1107, 'max_depth': 9, 'min_samples_split': 4, 'min_samples_leaf': 8, 'min_weight_fraction_leaf': 0.19350409465647195}. Best is trial 13 with value: 0.6493903127100362.\n",
      "[I 2023-11-04 15:32:47,903] Trial 26 finished with value: 0.6459827640618006 and parameters: {'n_estimators': 1614, 'max_depth': 7, 'min_samples_split': 5, 'min_samples_leaf': 7, 'min_weight_fraction_leaf': 0.04798266485537983}. Best is trial 13 with value: 0.6493903127100362.\n",
      "[I 2023-11-04 15:32:52,334] Trial 27 finished with value: 0.649122589946262 and parameters: {'n_estimators': 909, 'max_depth': 3, 'min_samples_split': 7, 'min_samples_leaf': 5, 'min_weight_fraction_leaf': 0.12529249213996901}. Best is trial 13 with value: 0.6493903127100362.\n",
      "[I 2023-11-04 15:32:59,053] Trial 28 finished with value: 0.6472551763185175 and parameters: {'n_estimators': 1309, 'max_depth': 6, 'min_samples_split': 3, 'min_samples_leaf': 9, 'min_weight_fraction_leaf': 0.09041167534790334}. Best is trial 13 with value: 0.6493903127100362.\n",
      "[I 2023-11-04 15:33:04,833] Trial 29 finished with value: 0.6441895492452935 and parameters: {'n_estimators': 1533, 'max_depth': 9, 'min_samples_split': 4, 'min_samples_leaf': 6, 'min_weight_fraction_leaf': 0.20727012160016017}. Best is trial 13 with value: 0.6493903127100362.\n",
      "[I 2023-11-04 15:33:12,620] Trial 30 finished with value: 0.6491700809339205 and parameters: {'n_estimators': 1788, 'max_depth': 5, 'min_samples_split': 2, 'min_samples_leaf': 4, 'min_weight_fraction_leaf': 0.1354656823093647}. Best is trial 13 with value: 0.6493903127100362.\n",
      "[I 2023-11-04 15:33:20,484] Trial 31 finished with value: 0.6486634876651426 and parameters: {'n_estimators': 1791, 'max_depth': 5, 'min_samples_split': 2, 'min_samples_leaf': 4, 'min_weight_fraction_leaf': 0.12917269007691928}. Best is trial 13 with value: 0.6493903127100362.\n",
      "[I 2023-11-04 15:33:28,291] Trial 32 finished with value: 0.6475032722159932 and parameters: {'n_estimators': 1825, 'max_depth': 6, 'min_samples_split': 3, 'min_samples_leaf': 3, 'min_weight_fraction_leaf': 0.15430899348341762}. Best is trial 13 with value: 0.6493903127100362.\n",
      "[I 2023-11-04 15:33:33,930] Trial 33 finished with value: 0.6423513585580033 and parameters: {'n_estimators': 1532, 'max_depth': 3, 'min_samples_split': 2, 'min_samples_leaf': 3, 'min_weight_fraction_leaf': 0.2381964425250738}. Best is trial 13 with value: 0.6493903127100362.\n",
      "[I 2023-11-04 15:33:39,988] Trial 34 finished with value: 0.6466274097062239 and parameters: {'n_estimators': 1362, 'max_depth': 7, 'min_samples_split': 4, 'min_samples_leaf': 4, 'min_weight_fraction_leaf': 0.17305284067303117}. Best is trial 13 with value: 0.6493903127100362.\n",
      "[I 2023-11-04 15:33:45,790] Trial 35 finished with value: 0.648057253910222 and parameters: {'n_estimators': 1082, 'max_depth': 4, 'min_samples_split': 10, 'min_samples_leaf': 5, 'min_weight_fraction_leaf': 0.10569420861625485}. Best is trial 13 with value: 0.6493903127100362.\n",
      "[I 2023-11-04 15:33:51,494] Trial 36 finished with value: 0.6489023821186821 and parameters: {'n_estimators': 805, 'max_depth': 5, 'min_samples_split': 2, 'min_samples_leaf': 8, 'min_weight_fraction_leaf': 0.051516099023309406}. Best is trial 13 with value: 0.6493903127100362.\n",
      "[I 2023-11-04 15:33:59,307] Trial 37 finished with value: 0.6457059491843621 and parameters: {'n_estimators': 1744, 'max_depth': 6, 'min_samples_split': 3, 'min_samples_leaf': 6, 'min_weight_fraction_leaf': 0.19538541338584098}. Best is trial 13 with value: 0.6493903127100362.\n",
      "[I 2023-11-04 15:34:03,576] Trial 38 finished with value: 0.6431923202418611 and parameters: {'n_estimators': 1006, 'max_depth': 8, 'min_samples_split': 2, 'min_samples_leaf': 5, 'min_weight_fraction_leaf': 0.2516639470176995}. Best is trial 13 with value: 0.6493903127100362.\n",
      "[I 2023-11-04 15:34:11,069] Trial 39 finished with value: 0.6485147792323234 and parameters: {'n_estimators': 1563, 'max_depth': 3, 'min_samples_split': 5, 'min_samples_leaf': 10, 'min_weight_fraction_leaf': 0.13767177365605904}. Best is trial 13 with value: 0.6493903127100362.\n",
      "[I 2023-11-04 15:34:21,842] Trial 40 finished with value: 0.647385682302296 and parameters: {'n_estimators': 1888, 'max_depth': 7, 'min_samples_split': 7, 'min_samples_leaf': 9, 'min_weight_fraction_leaf': 0.09606972403978008}. Best is trial 13 with value: 0.6493903127100362.\n",
      "[I 2023-11-04 15:34:27,003] Trial 41 finished with value: 0.6455077625560364 and parameters: {'n_estimators': 898, 'max_depth': 2, 'min_samples_split': 7, 'min_samples_leaf': 5, 'min_weight_fraction_leaf': 0.12333647316722975}. Best is trial 13 with value: 0.6493903127100362.\n",
      "[I 2023-11-04 15:34:31,146] Trial 42 finished with value: 0.6476240222951706 and parameters: {'n_estimators': 766, 'max_depth': 3, 'min_samples_split': 4, 'min_samples_leaf': 2, 'min_weight_fraction_leaf': 0.05985382934890392}. Best is trial 13 with value: 0.6493903127100362.\n",
      "[I 2023-11-04 15:34:34,395] Trial 43 finished with value: 0.6479807674931989 and parameters: {'n_estimators': 528, 'max_depth': 6, 'min_samples_split': 9, 'min_samples_leaf': 5, 'min_weight_fraction_leaf': 0.08433847239996266}. Best is trial 13 with value: 0.6493903127100362.\n",
      "[I 2023-11-04 15:34:37,404] Trial 44 finished with value: 0.6419538472252828 and parameters: {'n_estimators': 613, 'max_depth': 2, 'min_samples_split': 7, 'min_samples_leaf': 7, 'min_weight_fraction_leaf': 0.03616850751920141}. Best is trial 13 with value: 0.6493903127100362.\n",
      "[I 2023-11-04 15:34:43,584] Trial 45 finished with value: 0.6486976143286046 and parameters: {'n_estimators': 1181, 'max_depth': 4, 'min_samples_split': 7, 'min_samples_leaf': 4, 'min_weight_fraction_leaf': 0.13190979029887778}. Best is trial 13 with value: 0.6493903127100362.\n",
      "[I 2023-11-04 15:34:49,395] Trial 46 finished with value: 0.6494263011118436 and parameters: {'n_estimators': 969, 'max_depth': 8, 'min_samples_split': 8, 'min_samples_leaf': 6, 'min_weight_fraction_leaf': 0.11108803696094932}. Best is trial 46 with value: 0.6494263011118436.\n",
      "[I 2023-11-04 15:34:55,619] Trial 47 finished with value: 0.6479201084552132 and parameters: {'n_estimators': 1010, 'max_depth': 8, 'min_samples_split': 10, 'min_samples_leaf': 7, 'min_weight_fraction_leaf': 0.09690933713724437}. Best is trial 46 with value: 0.6494263011118436.\n",
      "[I 2023-11-04 15:35:05,154] Trial 48 finished with value: 0.6476750795321762 and parameters: {'n_estimators': 1981, 'max_depth': 10, 'min_samples_split': 9, 'min_samples_leaf': 6, 'min_weight_fraction_leaf': 0.16248392304885795}. Best is trial 46 with value: 0.6494263011118436.\n",
      "[I 2023-11-04 15:35:15,036] Trial 49 finished with value: 0.6488615915148339 and parameters: {'n_estimators': 1715, 'max_depth': 8, 'min_samples_split': 8, 'min_samples_leaf': 8, 'min_weight_fraction_leaf': 0.07685044629248208}. Best is trial 46 with value: 0.6494263011118436.\n",
      "[I 2023-11-04 15:35:21,746] Trial 50 finished with value: 0.6495752058185321 and parameters: {'n_estimators': 1188, 'max_depth': 7, 'min_samples_split': 2, 'min_samples_leaf': 7, 'min_weight_fraction_leaf': 0.11031323258617698}. Best is trial 50 with value: 0.6495752058185321.\n",
      "[I 2023-11-04 15:35:28,337] Trial 51 finished with value: 0.6482404076261531 and parameters: {'n_estimators': 1172, 'max_depth': 7, 'min_samples_split': 2, 'min_samples_leaf': 7, 'min_weight_fraction_leaf': 0.1463667235797708}. Best is trial 50 with value: 0.6495752058185321.\n",
      "[I 2023-11-04 15:35:35,662] Trial 52 finished with value: 0.6500509190123047 and parameters: {'n_estimators': 1281, 'max_depth': 6, 'min_samples_split': 2, 'min_samples_leaf': 8, 'min_weight_fraction_leaf': 0.11397281527262061}. Best is trial 52 with value: 0.6500509190123047.\n",
      "[I 2023-11-04 15:35:42,950] Trial 53 finished with value: 0.6485001878059793 and parameters: {'n_estimators': 1291, 'max_depth': 6, 'min_samples_split': 3, 'min_samples_leaf': 8, 'min_weight_fraction_leaf': 0.10837039730862612}. Best is trial 52 with value: 0.6500509190123047.\n",
      "[I 2023-11-04 15:35:51,956] Trial 54 finished with value: 0.6468402642920841 and parameters: {'n_estimators': 1390, 'max_depth': 9, 'min_samples_split': 3, 'min_samples_leaf': 7, 'min_weight_fraction_leaf': 0.061285606035683185}. Best is trial 52 with value: 0.6500509190123047.\n",
      "[I 2023-11-04 15:35:59,060] Trial 55 finished with value: 0.648504942631569 and parameters: {'n_estimators': 1205, 'max_depth': 7, 'min_samples_split': 2, 'min_samples_leaf': 8, 'min_weight_fraction_leaf': 0.10304531765813234}. Best is trial 52 with value: 0.6500509190123047.\n",
      "[I 2023-11-04 15:36:07,655] Trial 56 finished with value: 0.6418376978680738 and parameters: {'n_estimators': 1053, 'max_depth': 8, 'min_samples_split': 4, 'min_samples_leaf': 9, 'min_weight_fraction_leaf': 0.026608456214988432}. Best is trial 52 with value: 0.6500509190123047.\n",
      "[I 2023-11-04 15:36:16,531] Trial 57 finished with value: 0.6485900000212934 and parameters: {'n_estimators': 1445, 'max_depth': 6, 'min_samples_split': 5, 'min_samples_leaf': 6, 'min_weight_fraction_leaf': 0.08460003016661838}. Best is trial 52 with value: 0.6500509190123047.\n",
      "[I 2023-11-04 15:36:23,065] Trial 58 finished with value: 0.6492468182899487 and parameters: {'n_estimators': 1127, 'max_depth': 7, 'min_samples_split': 3, 'min_samples_leaf': 8, 'min_weight_fraction_leaf': 0.11733065264338016}. Best is trial 52 with value: 0.6500509190123047.\n",
      "[I 2023-11-04 15:36:31,544] Trial 59 finished with value: 0.6484007909701567 and parameters: {'n_estimators': 1277, 'max_depth': 8, 'min_samples_split': 4, 'min_samples_leaf': 7, 'min_weight_fraction_leaf': 0.06828504119876547}. Best is trial 52 with value: 0.6500509190123047.\n",
      "[I 2023-11-04 15:36:36,465] Trial 60 finished with value: 0.6477957338172105 and parameters: {'n_estimators': 961, 'max_depth': 7, 'min_samples_split': 2, 'min_samples_leaf': 6, 'min_weight_fraction_leaf': 0.1677166666553767}. Best is trial 52 with value: 0.6500509190123047.\n",
      "[I 2023-11-04 15:36:42,395] Trial 61 finished with value: 0.6494264229370037 and parameters: {'n_estimators': 1108, 'max_depth': 7, 'min_samples_split': 3, 'min_samples_leaf': 8, 'min_weight_fraction_leaf': 0.1197101692105343}. Best is trial 52 with value: 0.6500509190123047.\n",
      "[I 2023-11-04 15:36:49,147] Trial 62 finished with value: 0.6489362193172337 and parameters: {'n_estimators': 1234, 'max_depth': 6, 'min_samples_split': 3, 'min_samples_leaf': 7, 'min_weight_fraction_leaf': 0.14782592253641264}. Best is trial 52 with value: 0.6500509190123047.\n",
      "[I 2023-11-04 15:36:56,488] Trial 63 finished with value: 0.6490098829307588 and parameters: {'n_estimators': 1340, 'max_depth': 7, 'min_samples_split': 3, 'min_samples_leaf': 9, 'min_weight_fraction_leaf': 0.11567051561760835}. Best is trial 52 with value: 0.6500509190123047.\n",
      "[I 2023-11-04 15:37:03,243] Trial 64 finished with value: 0.648304033158851 and parameters: {'n_estimators': 1142, 'max_depth': 9, 'min_samples_split': 4, 'min_samples_leaf': 8, 'min_weight_fraction_leaf': 0.0954059374124223}. Best is trial 52 with value: 0.6500509190123047.\n",
      "[I 2023-11-04 15:37:12,759] Trial 65 finished with value: 0.6495721950710904 and parameters: {'n_estimators': 1517, 'max_depth': 6, 'min_samples_split': 3, 'min_samples_leaf': 7, 'min_weight_fraction_leaf': 0.06906025741063983}. Best is trial 52 with value: 0.6500509190123047.\n",
      "[I 2023-11-04 15:37:22,197] Trial 66 finished with value: 0.6492112661679884 and parameters: {'n_estimators': 1492, 'max_depth': 6, 'min_samples_split': 2, 'min_samples_leaf': 7, 'min_weight_fraction_leaf': 0.06365232781255403}. Best is trial 52 with value: 0.6500509190123047.\n",
      "[I 2023-11-04 15:37:33,051] Trial 67 finished with value: 0.6433975675232739 and parameters: {'n_estimators': 1608, 'max_depth': 5, 'min_samples_split': 6, 'min_samples_leaf': 7, 'min_weight_fraction_leaf': 0.029077191865868643}. Best is trial 52 with value: 0.6500509190123047.\n",
      "[I 2023-11-04 15:37:41,906] Trial 68 finished with value: 0.647340403951094 and parameters: {'n_estimators': 1415, 'max_depth': 5, 'min_samples_split': 2, 'min_samples_leaf': 6, 'min_weight_fraction_leaf': 0.07790659128582791}. Best is trial 52 with value: 0.6500509190123047.\n",
      "[I 2023-11-04 15:37:52,648] Trial 69 finished with value: 0.6453847207061107 and parameters: {'n_estimators': 1614, 'max_depth': 6, 'min_samples_split': 3, 'min_samples_leaf': 8, 'min_weight_fraction_leaf': 0.046597340892799516}. Best is trial 52 with value: 0.6500509190123047.\n",
      "[I 2023-11-04 15:37:59,780] Trial 70 finished with value: 0.6473074799206234 and parameters: {'n_estimators': 1508, 'max_depth': 6, 'min_samples_split': 8, 'min_samples_leaf': 7, 'min_weight_fraction_leaf': 0.1779292086154955}. Best is trial 52 with value: 0.6500509190123047.\n",
      "[I 2023-11-04 15:38:05,698] Trial 71 finished with value: 0.6483579480809177 and parameters: {'n_estimators': 1061, 'max_depth': 7, 'min_samples_split': 3, 'min_samples_leaf': 8, 'min_weight_fraction_leaf': 0.13572055515207232}. Best is trial 52 with value: 0.6500509190123047.\n",
      "[I 2023-11-04 15:38:05,946] Trial 72 finished with value: 0.6528115461242889 and parameters: {'n_estimators': 19, 'max_depth': 7, 'min_samples_split': 5, 'min_samples_leaf': 9, 'min_weight_fraction_leaf': 0.11326828554382555}. Best is trial 72 with value: 0.6528115461242889.\n",
      "[I 2023-11-04 15:38:07,439] Trial 73 finished with value: 0.6473333682877832 and parameters: {'n_estimators': 210, 'max_depth': 7, 'min_samples_split': 5, 'min_samples_leaf': 10, 'min_weight_fraction_leaf': 0.10707511972498884}. Best is trial 72 with value: 0.6528115461242889.\n",
      "[I 2023-11-04 15:38:08,097] Trial 74 finished with value: 0.6521250491120693 and parameters: {'n_estimators': 66, 'max_depth': 8, 'min_samples_split': 6, 'min_samples_leaf': 9, 'min_weight_fraction_leaf': 0.08831425050594702}. Best is trial 72 with value: 0.6528115461242889.\n",
      "[I 2023-11-04 15:38:09,418] Trial 75 finished with value: 0.6493507882548613 and parameters: {'n_estimators': 167, 'max_depth': 8, 'min_samples_split': 6, 'min_samples_leaf': 9, 'min_weight_fraction_leaf': 0.09365651056037824}. Best is trial 72 with value: 0.6528115461242889.\n",
      "[I 2023-11-04 15:38:09,693] Trial 76 finished with value: 0.6434368389569622 and parameters: {'n_estimators': 19, 'max_depth': 8, 'min_samples_split': 6, 'min_samples_leaf': 9, 'min_weight_fraction_leaf': 0.0737797613051262}. Best is trial 72 with value: 0.6528115461242889.\n",
      "[I 2023-11-04 15:38:11,872] Trial 77 finished with value: 0.6495230490313627 and parameters: {'n_estimators': 376, 'max_depth': 9, 'min_samples_split': 5, 'min_samples_leaf': 10, 'min_weight_fraction_leaf': 0.1198324455014213}. Best is trial 72 with value: 0.6528115461242889.\n",
      "[I 2023-11-04 15:38:13,621] Trial 78 finished with value: 0.6507338406643212 and parameters: {'n_estimators': 250, 'max_depth': 9, 'min_samples_split': 6, 'min_samples_leaf': 10, 'min_weight_fraction_leaf': 0.08859227820637652}. Best is trial 72 with value: 0.6528115461242889.\n",
      "[I 2023-11-04 15:38:16,124] Trial 79 finished with value: 0.6496130007729285 and parameters: {'n_estimators': 337, 'max_depth': 9, 'min_samples_split': 6, 'min_samples_leaf': 10, 'min_weight_fraction_leaf': 0.09034140512598694}. Best is trial 72 with value: 0.6528115461242889.\n",
      "[I 2023-11-04 15:38:18,745] Trial 80 finished with value: 0.6451750819921074 and parameters: {'n_estimators': 288, 'max_depth': 10, 'min_samples_split': 6, 'min_samples_leaf': 10, 'min_weight_fraction_leaf': 0.04827770074990789}. Best is trial 72 with value: 0.6528115461242889.\n",
      "[I 2023-11-04 15:38:21,495] Trial 81 finished with value: 0.6457879453264717 and parameters: {'n_estimators': 364, 'max_depth': 9, 'min_samples_split': 6, 'min_samples_leaf': 10, 'min_weight_fraction_leaf': 0.08956654855165942}. Best is trial 72 with value: 0.6528115461242889.\n",
      "[I 2023-11-04 15:38:24,109] Trial 82 finished with value: 0.6464039292591699 and parameters: {'n_estimators': 430, 'max_depth': 9, 'min_samples_split': 5, 'min_samples_leaf': 10, 'min_weight_fraction_leaf': 0.15439634718208428}. Best is trial 72 with value: 0.6528115461242889.\n",
      "[I 2023-11-04 15:38:25,041] Trial 83 finished with value: 0.6449960885533345 and parameters: {'n_estimators': 107, 'max_depth': 9, 'min_samples_split': 5, 'min_samples_leaf': 10, 'min_weight_fraction_leaf': 0.06963176875617011}. Best is trial 72 with value: 0.6528115461242889.\n",
      "[I 2023-11-04 15:38:26,499] Trial 84 finished with value: 0.6516600018672569 and parameters: {'n_estimators': 244, 'max_depth': 10, 'min_samples_split': 6, 'min_samples_leaf': 9, 'min_weight_fraction_leaf': 0.125168146455484}. Best is trial 72 with value: 0.6528115461242889.\n",
      "[I 2023-11-04 15:38:28,164] Trial 85 finished with value: 0.650513030999625 and parameters: {'n_estimators': 258, 'max_depth': 10, 'min_samples_split': 6, 'min_samples_leaf': 9, 'min_weight_fraction_leaf': 0.08867991755439839}. Best is trial 72 with value: 0.6528115461242889.\n",
      "[I 2023-11-04 15:38:29,759] Trial 86 finished with value: 0.6454954608179595 and parameters: {'n_estimators': 251, 'max_depth': 10, 'min_samples_split': 6, 'min_samples_leaf': 9, 'min_weight_fraction_leaf': 0.08751847227651077}. Best is trial 72 with value: 0.6528115461242889.\n",
      "[I 2023-11-04 15:38:30,440] Trial 87 finished with value: 0.6518034634882628 and parameters: {'n_estimators': 90, 'max_depth': 10, 'min_samples_split': 7, 'min_samples_leaf': 9, 'min_weight_fraction_leaf': 0.10164848595355272}. Best is trial 72 with value: 0.6528115461242889.\n",
      "[I 2023-11-04 15:38:31,218] Trial 88 finished with value: 0.6497501410217339 and parameters: {'n_estimators': 116, 'max_depth': 10, 'min_samples_split': 7, 'min_samples_leaf': 9, 'min_weight_fraction_leaf': 0.13831664938077243}. Best is trial 72 with value: 0.6528115461242889.\n",
      "[I 2023-11-04 15:38:31,779] Trial 89 finished with value: 0.6443548862918576 and parameters: {'n_estimators': 65, 'max_depth': 10, 'min_samples_split': 7, 'min_samples_leaf': 9, 'min_weight_fraction_leaf': 0.13837284209365375}. Best is trial 72 with value: 0.6528115461242889.\n",
      "[I 2023-11-04 15:38:32,733] Trial 90 finished with value: 0.6487278175971644 and parameters: {'n_estimators': 134, 'max_depth': 10, 'min_samples_split': 7, 'min_samples_leaf': 9, 'min_weight_fraction_leaf': 0.13013043592096046}. Best is trial 72 with value: 0.6528115461242889.\n",
      "[I 2023-11-04 15:38:33,373] Trial 91 finished with value: 0.6433888825347176 and parameters: {'n_estimators': 83, 'max_depth': 10, 'min_samples_split': 6, 'min_samples_leaf': 9, 'min_weight_fraction_leaf': 0.10342068437221262}. Best is trial 72 with value: 0.6528115461242889.\n",
      "[I 2023-11-04 15:38:33,542] Trial 92 finished with value: 0.6485701984868701 and parameters: {'n_estimators': 11, 'max_depth': 10, 'min_samples_split': 7, 'min_samples_leaf': 9, 'min_weight_fraction_leaf': 0.10371161701043571}. Best is trial 72 with value: 0.6528115461242889.\n",
      "[I 2023-11-04 15:38:35,596] Trial 93 finished with value: 0.6484005384692905 and parameters: {'n_estimators': 300, 'max_depth': 10, 'min_samples_split': 6, 'min_samples_leaf': 10, 'min_weight_fraction_leaf': 0.08562011965600798}. Best is trial 72 with value: 0.6528115461242889.\n",
      "[I 2023-11-04 15:38:36,845] Trial 94 finished with value: 0.6507064451012695 and parameters: {'n_estimators': 200, 'max_depth': 10, 'min_samples_split': 7, 'min_samples_leaf': 9, 'min_weight_fraction_leaf': 0.14073512756228196}. Best is trial 72 with value: 0.6528115461242889.\n",
      "[I 2023-11-04 15:38:38,261] Trial 95 finished with value: 0.6497257713041137 and parameters: {'n_estimators': 219, 'max_depth': 10, 'min_samples_split': 7, 'min_samples_leaf': 10, 'min_weight_fraction_leaf': 0.1426265897990783}. Best is trial 72 with value: 0.6528115461242889.\n",
      "[I 2023-11-04 15:38:39,707] Trial 96 finished with value: 0.6495495871327099 and parameters: {'n_estimators': 219, 'max_depth': 10, 'min_samples_split': 7, 'min_samples_leaf': 9, 'min_weight_fraction_leaf': 0.12861849188768498}. Best is trial 72 with value: 0.6528115461242889.\n",
      "[I 2023-11-04 15:38:40,660] Trial 97 finished with value: 0.6501325361428048 and parameters: {'n_estimators': 144, 'max_depth': 10, 'min_samples_split': 7, 'min_samples_leaf': 10, 'min_weight_fraction_leaf': 0.1551109160117457}. Best is trial 72 with value: 0.6528115461242889.\n",
      "[I 2023-11-04 15:38:41,652] Trial 98 finished with value: 0.6439262866359949 and parameters: {'n_estimators': 152, 'max_depth': 10, 'min_samples_split': 8, 'min_samples_leaf': 9, 'min_weight_fraction_leaf': 0.15841273444882484}. Best is trial 72 with value: 0.6528115461242889.\n",
      "[I 2023-11-04 15:38:44,311] Trial 99 finished with value: 0.6500182495651818 and parameters: {'n_estimators': 437, 'max_depth': 9, 'min_samples_split': 7, 'min_samples_leaf': 9, 'min_weight_fraction_leaf': 0.14999407291561828}. Best is trial 72 with value: 0.6528115461242889.\n",
      "[I 2023-11-04 15:38:46,995] Trial 100 finished with value: 0.6490194420408705 and parameters: {'n_estimators': 464, 'max_depth': 9, 'min_samples_split': 7, 'min_samples_leaf': 10, 'min_weight_fraction_leaf': 0.16352235764758188}. Best is trial 72 with value: 0.6528115461242889.\n",
      "[I 2023-11-04 15:38:47,414] Trial 101 finished with value: 0.6474468338471258 and parameters: {'n_estimators': 50, 'max_depth': 10, 'min_samples_split': 7, 'min_samples_leaf': 9, 'min_weight_fraction_leaf': 0.14694107383262917}. Best is trial 72 with value: 0.6528115461242889.\n",
      "[I 2023-11-04 15:38:48,266] Trial 102 finished with value: 0.6537236362609132 and parameters: {'n_estimators': 113, 'max_depth': 10, 'min_samples_split': 8, 'min_samples_leaf': 9, 'min_weight_fraction_leaf': 0.12483918089276111}. Best is trial 102 with value: 0.6537236362609132.\n",
      "[I 2023-11-04 15:38:49,891] Trial 103 finished with value: 0.6478658077534727 and parameters: {'n_estimators': 274, 'max_depth': 9, 'min_samples_split': 8, 'min_samples_leaf': 9, 'min_weight_fraction_leaf': 0.12421881980382855}. Best is trial 102 with value: 0.6537236362609132.\n",
      "[I 2023-11-04 15:38:51,099] Trial 104 finished with value: 0.6460797957194064 and parameters: {'n_estimators': 191, 'max_depth': 9, 'min_samples_split': 8, 'min_samples_leaf': 9, 'min_weight_fraction_leaf': 0.11399309641707428}. Best is trial 102 with value: 0.6537236362609132.\n",
      "[I 2023-11-04 15:38:52,398] Trial 105 finished with value: 0.6472109688833603 and parameters: {'n_estimators': 246, 'max_depth': 10, 'min_samples_split': 9, 'min_samples_leaf': 10, 'min_weight_fraction_leaf': 0.17980823522199452}. Best is trial 102 with value: 0.6537236362609132.\n",
      "[I 2023-11-04 15:38:53,588] Trial 106 finished with value: 0.6473856390908075 and parameters: {'n_estimators': 159, 'max_depth': 10, 'min_samples_split': 6, 'min_samples_leaf': 9, 'min_weight_fraction_leaf': 0.09804652667143751}. Best is trial 102 with value: 0.6537236362609132.\n",
      "[I 2023-11-04 15:38:54,204] Trial 107 finished with value: 0.6478889514101859 and parameters: {'n_estimators': 90, 'max_depth': 9, 'min_samples_split': 6, 'min_samples_leaf': 9, 'min_weight_fraction_leaf': 0.15753572823663697}. Best is trial 102 with value: 0.6537236362609132.\n",
      "[I 2023-11-04 15:38:56,187] Trial 108 finished with value: 0.6518924198037336 and parameters: {'n_estimators': 316, 'max_depth': 10, 'min_samples_split': 7, 'min_samples_leaf': 10, 'min_weight_fraction_leaf': 0.12800155321099818}. Best is trial 102 with value: 0.6537236362609132.\n",
      "[I 2023-11-04 15:38:58,285] Trial 109 finished with value: 0.6503122907285186 and parameters: {'n_estimators': 319, 'max_depth': 10, 'min_samples_split': 6, 'min_samples_leaf': 10, 'min_weight_fraction_leaf': 0.12735557608453954}. Best is trial 102 with value: 0.6537236362609132.\n",
      "[I 2023-11-04 15:39:00,549] Trial 110 finished with value: 0.6473255168123954 and parameters: {'n_estimators': 340, 'max_depth': 10, 'min_samples_split': 6, 'min_samples_leaf': 10, 'min_weight_fraction_leaf': 0.12588928397653837}. Best is trial 102 with value: 0.6537236362609132.\n",
      "[I 2023-11-04 15:39:00,962] Trial 111 finished with value: 0.6468905739182775 and parameters: {'n_estimators': 44, 'max_depth': 10, 'min_samples_split': 6, 'min_samples_leaf': 10, 'min_weight_fraction_leaf': 0.112566146534822}. Best is trial 102 with value: 0.6537236362609132.\n",
      "[I 2023-11-04 15:39:01,993] Trial 112 finished with value: 0.6538842039045183 and parameters: {'n_estimators': 127, 'max_depth': 10, 'min_samples_split': 7, 'min_samples_leaf': 10, 'min_weight_fraction_leaf': 0.08223445059084343}. Best is trial 112 with value: 0.6538842039045183.\n",
      "[I 2023-11-04 15:39:02,923] Trial 113 finished with value: 0.6447423074817167 and parameters: {'n_estimators': 117, 'max_depth': 10, 'min_samples_split': 7, 'min_samples_leaf': 10, 'min_weight_fraction_leaf': 0.0752341877421417}. Best is trial 112 with value: 0.6538842039045183.\n",
      "[I 2023-11-04 15:39:04,236] Trial 114 finished with value: 0.6476372080465893 and parameters: {'n_estimators': 171, 'max_depth': 10, 'min_samples_split': 8, 'min_samples_leaf': 10, 'min_weight_fraction_leaf': 0.09950521383074687}. Best is trial 112 with value: 0.6538842039045183.\n",
      "[I 2023-11-04 15:39:06,369] Trial 115 finished with value: 0.6460035946023313 and parameters: {'n_estimators': 306, 'max_depth': 10, 'min_samples_split': 7, 'min_samples_leaf': 10, 'min_weight_fraction_leaf': 0.08280261158387404}. Best is trial 112 with value: 0.6538842039045183.\n",
      "[I 2023-11-04 15:39:07,801] Trial 116 finished with value: 0.6490559088927729 and parameters: {'n_estimators': 243, 'max_depth': 10, 'min_samples_split': 6, 'min_samples_leaf': 10, 'min_weight_fraction_leaf': 0.13110036322275545}. Best is trial 112 with value: 0.6538842039045183.\n",
      "[I 2023-11-04 15:39:09,322] Trial 117 finished with value: 0.6473308162068634 and parameters: {'n_estimators': 199, 'max_depth': 10, 'min_samples_split': 5, 'min_samples_leaf': 10, 'min_weight_fraction_leaf': 0.05615494736632707}. Best is trial 112 with value: 0.6538842039045183.\n",
      "[I 2023-11-04 15:39:11,759] Trial 118 finished with value: 0.6489087269187982 and parameters: {'n_estimators': 401, 'max_depth': 9, 'min_samples_split': 7, 'min_samples_leaf': 10, 'min_weight_fraction_leaf': 0.10186485422000606}. Best is trial 112 with value: 0.6538842039045183.\n",
      "[I 2023-11-04 15:39:12,264] Trial 119 finished with value: 0.6424510422556347 and parameters: {'n_estimators': 63, 'max_depth': 10, 'min_samples_split': 6, 'min_samples_leaf': 9, 'min_weight_fraction_leaf': 0.16892776878496354}. Best is trial 112 with value: 0.6538842039045183.\n",
      "[I 2023-11-04 15:39:13,221] Trial 120 finished with value: 0.6500002787921935 and parameters: {'n_estimators': 137, 'max_depth': 9, 'min_samples_split': 5, 'min_samples_leaf': 1, 'min_weight_fraction_leaf': 0.11433597501950993}. Best is trial 112 with value: 0.6538842039045183.\n",
      "[I 2023-11-04 15:39:14,397] Trial 121 finished with value: 0.6513118500286048 and parameters: {'n_estimators': 183, 'max_depth': 10, 'min_samples_split': 9, 'min_samples_leaf': 9, 'min_weight_fraction_leaf': 0.12246497331151408}. Best is trial 112 with value: 0.6538842039045183.\n",
      "[I 2023-11-04 15:39:16,110] Trial 122 finished with value: 0.6498225114143277 and parameters: {'n_estimators': 269, 'max_depth': 10, 'min_samples_split': 10, 'min_samples_leaf': 9, 'min_weight_fraction_leaf': 0.1227934035455992}. Best is trial 112 with value: 0.6538842039045183.\n",
      "[I 2023-11-04 15:39:18,943] Trial 123 finished with value: 0.6497843239121928 and parameters: {'n_estimators': 521, 'max_depth': 10, 'min_samples_split': 7, 'min_samples_leaf': 9, 'min_weight_fraction_leaf': 0.14118193071995447}. Best is trial 112 with value: 0.6538842039045183.\n",
      "[I 2023-11-04 15:39:21,260] Trial 124 finished with value: 0.6494040128343535 and parameters: {'n_estimators': 310, 'max_depth': 10, 'min_samples_split': 9, 'min_samples_leaf': 10, 'min_weight_fraction_leaf': 0.08070789952818064}. Best is trial 112 with value: 0.6538842039045183.\n",
      "[I 2023-11-04 15:39:22,621] Trial 125 finished with value: 0.6469400974077537 and parameters: {'n_estimators': 173, 'max_depth': 10, 'min_samples_split': 9, 'min_samples_leaf': 9, 'min_weight_fraction_leaf': 0.0912478079476475}. Best is trial 112 with value: 0.6538842039045183.\n",
      "[I 2023-11-04 15:39:23,336] Trial 126 finished with value: 0.6523831346726802 and parameters: {'n_estimators': 94, 'max_depth': 9, 'min_samples_split': 8, 'min_samples_leaf': 10, 'min_weight_fraction_leaf': 0.10727371404803851}. Best is trial 112 with value: 0.6538842039045183.\n",
      "[I 2023-11-04 15:39:23,591] Trial 127 finished with value: 0.643403003580582 and parameters: {'n_estimators': 21, 'max_depth': 9, 'min_samples_split': 8, 'min_samples_leaf': 9, 'min_weight_fraction_leaf': 0.10791640646087929}. Best is trial 112 with value: 0.6538842039045183.\n",
      "[I 2023-11-04 15:39:24,303] Trial 128 finished with value: 0.6417779415857625 and parameters: {'n_estimators': 85, 'max_depth': 9, 'min_samples_split': 8, 'min_samples_leaf': 10, 'min_weight_fraction_leaf': 0.0619333649010835}. Best is trial 112 with value: 0.6538842039045183.\n",
      "[I 2023-11-04 15:39:25,890] Trial 129 finished with value: 0.6490097402807848 and parameters: {'n_estimators': 229, 'max_depth': 8, 'min_samples_split': 9, 'min_samples_leaf': 10, 'min_weight_fraction_leaf': 0.09527462451909191}. Best is trial 112 with value: 0.6538842039045183.\n",
      "[I 2023-11-04 15:39:26,579] Trial 130 finished with value: 0.6485133667893337 and parameters: {'n_estimators': 85, 'max_depth': 9, 'min_samples_split': 6, 'min_samples_leaf': 8, 'min_weight_fraction_leaf': 0.07517206762667328}. Best is trial 112 with value: 0.6538842039045183.\n",
      "[I 2023-11-04 15:39:27,403] Trial 131 finished with value: 0.6492779019275077 and parameters: {'n_estimators': 123, 'max_depth': 10, 'min_samples_split': 6, 'min_samples_leaf': 10, 'min_weight_fraction_leaf': 0.13367266903192332}. Best is trial 112 with value: 0.6538842039045183.\n",
      "[I 2023-11-04 15:39:28,666] Trial 132 finished with value: 0.6475964726284975 and parameters: {'n_estimators': 190, 'max_depth': 10, 'min_samples_split': 7, 'min_samples_leaf': 10, 'min_weight_fraction_leaf': 0.11962087064927225}. Best is trial 112 with value: 0.6538842039045183.\n",
      "[I 2023-11-04 15:39:29,816] Trial 133 finished with value: 0.6453124632881312 and parameters: {'n_estimators': 149, 'max_depth': 10, 'min_samples_split': 7, 'min_samples_leaf': 9, 'min_weight_fraction_leaf': 0.10404283580093555}. Best is trial 112 with value: 0.6538842039045183.\n",
      "[I 2023-11-04 15:39:30,138] Trial 134 finished with value: 0.6437662596566158 and parameters: {'n_estimators': 34, 'max_depth': 10, 'min_samples_split': 8, 'min_samples_leaf': 2, 'min_weight_fraction_leaf': 0.14899299385786283}. Best is trial 112 with value: 0.6538842039045183.\n",
      "[I 2023-11-04 15:39:31,796] Trial 135 finished with value: 0.6493466560912016 and parameters: {'n_estimators': 250, 'max_depth': 10, 'min_samples_split': 9, 'min_samples_leaf': 10, 'min_weight_fraction_leaf': 0.13303006180316637}. Best is trial 112 with value: 0.6538842039045183.\n",
      "[I 2023-11-04 15:39:32,627] Trial 136 finished with value: 0.6517401721938247 and parameters: {'n_estimators': 103, 'max_depth': 10, 'min_samples_split': 6, 'min_samples_leaf': 9, 'min_weight_fraction_leaf': 0.12053931852049904}. Best is trial 112 with value: 0.6538842039045183.\n",
      "[I 2023-11-04 15:39:33,466] Trial 137 finished with value: 0.6472758272450297 and parameters: {'n_estimators': 97, 'max_depth': 9, 'min_samples_split': 6, 'min_samples_leaf': 9, 'min_weight_fraction_leaf': 0.08704582996789802}. Best is trial 112 with value: 0.6538842039045183.\n",
      "[I 2023-11-04 15:39:35,652] Trial 138 finished with value: 0.6467922490397405 and parameters: {'n_estimators': 320, 'max_depth': 10, 'min_samples_split': 6, 'min_samples_leaf': 9, 'min_weight_fraction_leaf': 0.11015703570052511}. Best is trial 112 with value: 0.6538842039045183.\n",
      "[I 2023-11-04 15:39:36,913] Trial 139 finished with value: 0.6499336258522028 and parameters: {'n_estimators': 195, 'max_depth': 9, 'min_samples_split': 6, 'min_samples_leaf': 8, 'min_weight_fraction_leaf': 0.12222905911302717}. Best is trial 112 with value: 0.6538842039045183.\n",
      "[I 2023-11-04 15:39:37,426] Trial 140 finished with value: 0.6450524759014085 and parameters: {'n_estimators': 57, 'max_depth': 10, 'min_samples_split': 5, 'min_samples_leaf': 9, 'min_weight_fraction_leaf': 0.09460655326036971}. Best is trial 112 with value: 0.6538842039045183.\n",
      "[I 2023-11-04 15:39:38,337] Trial 141 finished with value: 0.651362570944869 and parameters: {'n_estimators': 133, 'max_depth': 10, 'min_samples_split': 7, 'min_samples_leaf': 10, 'min_weight_fraction_leaf': 0.12853039575353417}. Best is trial 112 with value: 0.6538842039045183.\n",
      "[I 2023-11-04 15:39:38,528] Trial 142 finished with value: 0.6355945337758668 and parameters: {'n_estimators': 13, 'max_depth': 10, 'min_samples_split': 6, 'min_samples_leaf': 9, 'min_weight_fraction_leaf': 0.11899540777363252}. Best is trial 112 with value: 0.6538842039045183.\n",
      "[I 2023-11-04 15:39:39,306] Trial 143 finished with value: 0.6489294955055079 and parameters: {'n_estimators': 121, 'max_depth': 10, 'min_samples_split': 7, 'min_samples_leaf': 10, 'min_weight_fraction_leaf': 0.1370691376501976}. Best is trial 112 with value: 0.6538842039045183.\n",
      "[I 2023-11-04 15:39:40,675] Trial 144 finished with value: 0.6392415537249815 and parameters: {'n_estimators': 274, 'max_depth': 1, 'min_samples_split': 6, 'min_samples_leaf': 9, 'min_weight_fraction_leaf': 0.10603779164605644}. Best is trial 112 with value: 0.6538842039045183.\n",
      "[I 2023-11-04 15:39:42,105] Trial 145 finished with value: 0.6467768053578955 and parameters: {'n_estimators': 212, 'max_depth': 10, 'min_samples_split': 8, 'min_samples_leaf': 9, 'min_weight_fraction_leaf': 0.1269072927802843}. Best is trial 112 with value: 0.6538842039045183.\n",
      "[I 2023-11-04 15:39:42,803] Trial 146 finished with value: 0.6502961301524617 and parameters: {'n_estimators': 71, 'max_depth': 10, 'min_samples_split': 7, 'min_samples_leaf': 10, 'min_weight_fraction_leaf': 0.08395503427417607}. Best is trial 112 with value: 0.6538842039045183.\n",
      "[I 2023-11-04 15:39:44,826] Trial 147 finished with value: 0.6502039407846631 and parameters: {'n_estimators': 368, 'max_depth': 10, 'min_samples_split': 6, 'min_samples_leaf': 9, 'min_weight_fraction_leaf': 0.14561432478621447}. Best is trial 112 with value: 0.6538842039045183.\n",
      "[I 2023-11-04 15:39:46,015] Trial 148 finished with value: 0.6460211884461914 and parameters: {'n_estimators': 177, 'max_depth': 9, 'min_samples_split': 7, 'min_samples_leaf': 10, 'min_weight_fraction_leaf': 0.1005066219883487}. Best is trial 112 with value: 0.6538842039045183.\n",
      "[I 2023-11-04 15:39:46,757] Trial 149 finished with value: 0.6498904799619243 and parameters: {'n_estimators': 90, 'max_depth': 10, 'min_samples_split': 10, 'min_samples_leaf': 8, 'min_weight_fraction_leaf': 0.06889919699533947}. Best is trial 112 with value: 0.6538842039045183.\n",
      "[I 2023-11-04 15:39:47,807] Trial 150 finished with value: 0.6450918754077011 and parameters: {'n_estimators': 149, 'max_depth': 10, 'min_samples_split': 6, 'min_samples_leaf': 10, 'min_weight_fraction_leaf': 0.1144873491804782}. Best is trial 112 with value: 0.6538842039045183.\n",
      "[I 2023-11-04 15:39:48,400] Trial 151 finished with value: 0.6379376137415533 and parameters: {'n_estimators': 65, 'max_depth': 10, 'min_samples_split': 7, 'min_samples_leaf': 10, 'min_weight_fraction_leaf': 0.07969443088092966}. Best is trial 112 with value: 0.6538842039045183.\n",
      "[I 2023-11-04 15:39:49,242] Trial 152 finished with value: 0.6480201342004098 and parameters: {'n_estimators': 115, 'max_depth': 8, 'min_samples_split': 7, 'min_samples_leaf': 10, 'min_weight_fraction_leaf': 0.09089802716494183}. Best is trial 112 with value: 0.6538842039045183.\n",
      "[I 2023-11-04 15:39:53,831] Trial 153 finished with value: 0.646758984523566 and parameters: {'n_estimators': 635, 'max_depth': 10, 'min_samples_split': 7, 'min_samples_leaf': 10, 'min_weight_fraction_leaf': 0.06220132136450071}. Best is trial 112 with value: 0.6538842039045183.\n",
      "[I 2023-11-04 15:39:55,432] Trial 154 finished with value: 0.6497518621925866 and parameters: {'n_estimators': 225, 'max_depth': 10, 'min_samples_split': 8, 'min_samples_leaf': 9, 'min_weight_fraction_leaf': 0.08408249244644858}. Best is trial 112 with value: 0.6538842039045183.\n",
      "[I 2023-11-04 15:39:55,870] Trial 155 finished with value: 0.6456642922682636 and parameters: {'n_estimators': 48, 'max_depth': 10, 'min_samples_split': 7, 'min_samples_leaf': 10, 'min_weight_fraction_leaf': 0.11055894039631903}. Best is trial 112 with value: 0.6538842039045183.\n",
      "[I 2023-11-04 15:39:57,029] Trial 156 finished with value: 0.6481603039389892 and parameters: {'n_estimators': 163, 'max_depth': 10, 'min_samples_split': 6, 'min_samples_leaf': 9, 'min_weight_fraction_leaf': 0.12917270628551913}. Best is trial 112 with value: 0.6538842039045183.\n",
      "[I 2023-11-04 15:39:57,905] Trial 157 finished with value: 0.6458713476641267 and parameters: {'n_estimators': 124, 'max_depth': 9, 'min_samples_split': 7, 'min_samples_leaf': 10, 'min_weight_fraction_leaf': 0.09772799483265505}. Best is trial 112 with value: 0.6538842039045183.\n",
      "[I 2023-11-04 15:39:58,090] Trial 158 finished with value: 0.6426083810118745 and parameters: {'n_estimators': 13, 'max_depth': 10, 'min_samples_split': 5, 'min_samples_leaf': 9, 'min_weight_fraction_leaf': 0.13946656848851405}. Best is trial 112 with value: 0.6538842039045183.\n",
      "[I 2023-11-04 15:40:00,536] Trial 159 finished with value: 0.6483129586740058 and parameters: {'n_estimators': 284, 'max_depth': 9, 'min_samples_split': 8, 'min_samples_leaf': 9, 'min_weight_fraction_leaf': 0.050281164107167695}. Best is trial 112 with value: 0.6538842039045183.\n",
      "[I 2023-11-04 15:40:01,256] Trial 160 finished with value: 0.6455587229576583 and parameters: {'n_estimators': 80, 'max_depth': 10, 'min_samples_split': 7, 'min_samples_leaf': 10, 'min_weight_fraction_leaf': 0.11838828388485031}. Best is trial 112 with value: 0.6538842039045183.\n",
      "[I 2023-11-04 15:40:03,755] Trial 161 finished with value: 0.646021060373587 and parameters: {'n_estimators': 415, 'max_depth': 10, 'min_samples_split': 6, 'min_samples_leaf': 9, 'min_weight_fraction_leaf': 0.15423033334303016}. Best is trial 112 with value: 0.6538842039045183.\n",
      "[I 2023-11-04 15:40:06,436] Trial 162 finished with value: 0.651844548763225 and parameters: {'n_estimators': 365, 'max_depth': 10, 'min_samples_split': 6, 'min_samples_leaf': 9, 'min_weight_fraction_leaf': 0.12812720913893716}. Best is trial 112 with value: 0.6538842039045183.\n",
      "[I 2023-11-04 15:40:09,133] Trial 163 finished with value: 0.6485540194287911 and parameters: {'n_estimators': 352, 'max_depth': 10, 'min_samples_split': 6, 'min_samples_leaf': 9, 'min_weight_fraction_leaf': 0.10319743663713797}. Best is trial 112 with value: 0.6538842039045183.\n",
      "[I 2023-11-04 15:40:11,005] Trial 164 finished with value: 0.6495884686217617 and parameters: {'n_estimators': 237, 'max_depth': 10, 'min_samples_split': 6, 'min_samples_leaf': 10, 'min_weight_fraction_leaf': 0.127859173519996}. Best is trial 112 with value: 0.6538842039045183.\n",
      "[I 2023-11-04 15:40:14,771] Trial 165 finished with value: 0.6484368454907476 and parameters: {'n_estimators': 486, 'max_depth': 10, 'min_samples_split': 7, 'min_samples_leaf': 8, 'min_weight_fraction_leaf': 0.07461573400398767}. Best is trial 112 with value: 0.6538842039045183.\n",
      "[I 2023-11-04 15:40:16,109] Trial 166 finished with value: 0.6488060366386879 and parameters: {'n_estimators': 187, 'max_depth': 10, 'min_samples_split': 7, 'min_samples_leaf': 9, 'min_weight_fraction_leaf': 0.11045493901766669}. Best is trial 112 with value: 0.6538842039045183.\n",
      "[I 2023-11-04 15:40:18,323] Trial 167 finished with value: 0.6470052671003882 and parameters: {'n_estimators': 330, 'max_depth': 10, 'min_samples_split': 5, 'min_samples_leaf': 9, 'min_weight_fraction_leaf': 0.1408781178081204}. Best is trial 112 with value: 0.6538842039045183.\n",
      "[I 2023-11-04 15:40:20,179] Trial 168 finished with value: 0.651397324955844 and parameters: {'n_estimators': 277, 'max_depth': 10, 'min_samples_split': 6, 'min_samples_leaf': 10, 'min_weight_fraction_leaf': 0.09291726860918559}. Best is trial 112 with value: 0.6538842039045183.\n",
      "[I 2023-11-04 15:40:21,837] Trial 169 finished with value: 0.6475278298775571 and parameters: {'n_estimators': 256, 'max_depth': 8, 'min_samples_split': 6, 'min_samples_leaf': 9, 'min_weight_fraction_leaf': 0.12158872557128994}. Best is trial 112 with value: 0.6538842039045183.\n",
      "[I 2023-11-04 15:40:24,238] Trial 170 finished with value: 0.6458010941138461 and parameters: {'n_estimators': 312, 'max_depth': 10, 'min_samples_split': 6, 'min_samples_leaf': 10, 'min_weight_fraction_leaf': 0.0942601143507511}. Best is trial 112 with value: 0.6538842039045183.\n",
      "[I 2023-11-04 15:40:25,973] Trial 171 finished with value: 0.6481384951528346 and parameters: {'n_estimators': 204, 'max_depth': 10, 'min_samples_split': 6, 'min_samples_leaf': 10, 'min_weight_fraction_leaf': 0.08284600167347357}. Best is trial 112 with value: 0.6538842039045183.\n",
      "[I 2023-11-04 15:40:26,944] Trial 172 finished with value: 0.6455411072477438 and parameters: {'n_estimators': 127, 'max_depth': 10, 'min_samples_split': 6, 'min_samples_leaf': 10, 'min_weight_fraction_leaf': 0.1017358591990068}. Best is trial 112 with value: 0.6538842039045183.\n",
      "[I 2023-11-04 15:40:28,942] Trial 173 finished with value: 0.6506656383581906 and parameters: {'n_estimators': 275, 'max_depth': 10, 'min_samples_split': 6, 'min_samples_leaf': 10, 'min_weight_fraction_leaf': 0.06720914992218677}. Best is trial 112 with value: 0.6538842039045183.\n",
      "[I 2023-11-04 15:40:32,004] Trial 174 finished with value: 0.6456694058012694 and parameters: {'n_estimators': 389, 'max_depth': 10, 'min_samples_split': 6, 'min_samples_leaf': 10, 'min_weight_fraction_leaf': 0.039839498529975315}. Best is trial 112 with value: 0.6538842039045183.\n",
      "[I 2023-11-04 15:40:34,025] Trial 175 finished with value: 0.6452246408837669 and parameters: {'n_estimators': 273, 'max_depth': 9, 'min_samples_split': 6, 'min_samples_leaf': 9, 'min_weight_fraction_leaf': 0.060225540096006835}. Best is trial 112 with value: 0.6538842039045183.\n",
      "[I 2023-11-04 15:40:36,144] Trial 176 finished with value: 0.6507811260069443 and parameters: {'n_estimators': 297, 'max_depth': 10, 'min_samples_split': 6, 'min_samples_leaf': 10, 'min_weight_fraction_leaf': 0.06777195991553941}. Best is trial 112 with value: 0.6538842039045183.\n",
      "[I 2023-11-04 15:40:37,835] Trial 177 finished with value: 0.6475084482234401 and parameters: {'n_estimators': 234, 'max_depth': 10, 'min_samples_split': 5, 'min_samples_leaf': 9, 'min_weight_fraction_leaf': 0.07762534504578528}. Best is trial 112 with value: 0.6538842039045183.\n",
      "[I 2023-11-04 15:40:39,237] Trial 178 finished with value: 0.6507974641145379 and parameters: {'n_estimators': 167, 'max_depth': 10, 'min_samples_split': 6, 'min_samples_leaf': 10, 'min_weight_fraction_leaf': 0.06381229720338812}. Best is trial 112 with value: 0.6538842039045183.\n",
      "[I 2023-11-04 15:40:40,521] Trial 179 finished with value: 0.6446117348585344 and parameters: {'n_estimators': 160, 'max_depth': 9, 'min_samples_split': 6, 'min_samples_leaf': 10, 'min_weight_fraction_leaf': 0.06702563638549168}. Best is trial 112 with value: 0.6538842039045183.\n",
      "[I 2023-11-04 15:40:41,861] Trial 180 finished with value: 0.650055534832263 and parameters: {'n_estimators': 182, 'max_depth': 10, 'min_samples_split': 9, 'min_samples_leaf': 10, 'min_weight_fraction_leaf': 0.05787744518838249}. Best is trial 112 with value: 0.6538842039045183.\n",
      "[I 2023-11-04 15:40:43,874] Trial 181 finished with value: 0.6493633430144248 and parameters: {'n_estimators': 289, 'max_depth': 10, 'min_samples_split': 6, 'min_samples_leaf': 10, 'min_weight_fraction_leaf': 0.07157884755866836}. Best is trial 112 with value: 0.6538842039045183.\n",
      "[I 2023-11-04 15:40:44,760] Trial 182 finished with value: 0.6465875171724668 and parameters: {'n_estimators': 100, 'max_depth': 10, 'min_samples_split': 6, 'min_samples_leaf': 10, 'min_weight_fraction_leaf': 0.046826577284033874}. Best is trial 112 with value: 0.6538842039045183.\n",
      "[I 2023-11-04 15:40:46,199] Trial 183 finished with value: 0.6520508065687232 and parameters: {'n_estimators': 215, 'max_depth': 10, 'min_samples_split': 6, 'min_samples_leaf': 9, 'min_weight_fraction_leaf': 0.09523196471920213}. Best is trial 112 with value: 0.6538842039045183.\n",
      "[I 2023-11-04 15:40:47,582] Trial 184 finished with value: 0.6480491452483849 and parameters: {'n_estimators': 207, 'max_depth': 10, 'min_samples_split': 6, 'min_samples_leaf': 10, 'min_weight_fraction_leaf': 0.09261438057046938}. Best is trial 112 with value: 0.6538842039045183.\n",
      "[I 2023-11-04 15:40:48,558] Trial 185 finished with value: 0.6477939543368791 and parameters: {'n_estimators': 142, 'max_depth': 10, 'min_samples_split': 6, 'min_samples_leaf': 9, 'min_weight_fraction_leaf': 0.11308888569182297}. Best is trial 112 with value: 0.6538842039045183.\n",
      "[I 2023-11-04 15:40:48,934] Trial 186 finished with value: 0.6484067437431548 and parameters: {'n_estimators': 46, 'max_depth': 10, 'min_samples_split': 6, 'min_samples_leaf': 9, 'min_weight_fraction_leaf': 0.22238869438174752}. Best is trial 112 with value: 0.6538842039045183.\n",
      "[I 2023-11-04 15:40:50,641] Trial 187 finished with value: 0.6476766111972243 and parameters: {'n_estimators': 228, 'max_depth': 8, 'min_samples_split': 5, 'min_samples_leaf': 10, 'min_weight_fraction_leaf': 0.06963607672696998}. Best is trial 112 with value: 0.6538842039045183.\n",
      "[I 2023-11-04 15:40:51,644] Trial 188 finished with value: 0.6457421658781898 and parameters: {'n_estimators': 165, 'max_depth': 10, 'min_samples_split': 6, 'min_samples_leaf': 9, 'min_weight_fraction_leaf': 0.2623938881337074}. Best is trial 112 with value: 0.6538842039045183.\n",
      "[I 2023-11-04 15:40:52,524] Trial 189 finished with value: 0.6471236150373043 and parameters: {'n_estimators': 94, 'max_depth': 10, 'min_samples_split': 6, 'min_samples_leaf': 10, 'min_weight_fraction_leaf': 0.040224885552464465}. Best is trial 112 with value: 0.6538842039045183.\n",
      "[I 2023-11-04 15:40:55,357] Trial 190 finished with value: 0.64528184768826 and parameters: {'n_estimators': 365, 'max_depth': 9, 'min_samples_split': 7, 'min_samples_leaf': 9, 'min_weight_fraction_leaf': 0.054167131649999395}. Best is trial 112 with value: 0.6538842039045183.\n",
      "[I 2023-11-04 15:40:57,330] Trial 191 finished with value: 0.6474220814735538 and parameters: {'n_estimators': 295, 'max_depth': 10, 'min_samples_split': 6, 'min_samples_leaf': 9, 'min_weight_fraction_leaf': 0.08940628762228936}. Best is trial 112 with value: 0.6538842039045183.\n",
      "[I 2023-11-04 15:40:59,208] Trial 192 finished with value: 0.6448153333353221 and parameters: {'n_estimators': 265, 'max_depth': 10, 'min_samples_split': 6, 'min_samples_leaf': 9, 'min_weight_fraction_leaf': 0.10295290776412386}. Best is trial 112 with value: 0.6538842039045183.\n",
      "[I 2023-11-04 15:41:00,549] Trial 193 finished with value: 0.64652348347342 and parameters: {'n_estimators': 205, 'max_depth': 10, 'min_samples_split': 6, 'min_samples_leaf': 9, 'min_weight_fraction_leaf': 0.11771087536883297}. Best is trial 112 with value: 0.6538842039045183.\n",
      "[I 2023-11-04 15:41:02,217] Trial 194 finished with value: 0.6461605184241579 and parameters: {'n_estimators': 245, 'max_depth': 10, 'min_samples_split': 6, 'min_samples_leaf': 10, 'min_weight_fraction_leaf': 0.08492663496057114}. Best is trial 112 with value: 0.6538842039045183.\n",
      "[I 2023-11-04 15:41:03,178] Trial 195 finished with value: 0.6513041682754486 and parameters: {'n_estimators': 128, 'max_depth': 10, 'min_samples_split': 8, 'min_samples_leaf': 9, 'min_weight_fraction_leaf': 0.0952868462216358}. Best is trial 112 with value: 0.6538842039045183.\n",
      "[I 2023-11-04 15:41:04,000] Trial 196 finished with value: 0.6500521596505813 and parameters: {'n_estimators': 113, 'max_depth': 10, 'min_samples_split': 8, 'min_samples_leaf': 8, 'min_weight_fraction_leaf': 0.10547964864413636}. Best is trial 112 with value: 0.6538842039045183.\n",
      "[I 2023-11-04 15:41:05,017] Trial 197 finished with value: 0.649242912596138 and parameters: {'n_estimators': 147, 'max_depth': 10, 'min_samples_split': 8, 'min_samples_leaf': 3, 'min_weight_fraction_leaf': 0.13415475652776218}. Best is trial 112 with value: 0.6538842039045183.\n",
      "[I 2023-11-04 15:41:05,615] Trial 198 finished with value: 0.6428556376693578 and parameters: {'n_estimators': 69, 'max_depth': 10, 'min_samples_split': 8, 'min_samples_leaf': 10, 'min_weight_fraction_leaf': 0.09779913276578586}. Best is trial 112 with value: 0.6538842039045183.\n",
      "[I 2023-11-04 15:41:06,767] Trial 199 finished with value: 0.6477912819926602 and parameters: {'n_estimators': 180, 'max_depth': 10, 'min_samples_split': 9, 'min_samples_leaf': 9, 'min_weight_fraction_leaf': 0.11237039967650515}. Best is trial 112 with value: 0.6538842039045183.\n",
      "[I 2023-11-04 15:41:07,727] Trial 200 finished with value: 0.6462798774057794 and parameters: {'n_estimators': 120, 'max_depth': 9, 'min_samples_split': 7, 'min_samples_leaf': 10, 'min_weight_fraction_leaf': 0.07267074151233881}. Best is trial 112 with value: 0.6538842039045183.\n",
      "[I 2023-11-04 15:41:10,285] Trial 201 finished with value: 0.6476360257177911 and parameters: {'n_estimators': 335, 'max_depth': 10, 'min_samples_split': 6, 'min_samples_leaf': 9, 'min_weight_fraction_leaf': 0.09280626594448255}. Best is trial 112 with value: 0.6538842039045183.\n",
      "[I 2023-11-04 15:41:12,041] Trial 202 finished with value: 0.6502891408243614 and parameters: {'n_estimators': 268, 'max_depth': 10, 'min_samples_split': 8, 'min_samples_leaf': 9, 'min_weight_fraction_leaf': 0.12415015392949258}. Best is trial 112 with value: 0.6538842039045183.\n",
      "[I 2023-11-04 15:41:12,505] Trial 203 finished with value: 0.6415267178012678 and parameters: {'n_estimators': 45, 'max_depth': 10, 'min_samples_split': 6, 'min_samples_leaf': 9, 'min_weight_fraction_leaf': 0.08774558548476921}. Best is trial 112 with value: 0.6538842039045183.\n",
      "[I 2023-11-04 15:41:13,971] Trial 204 finished with value: 0.6475369527078217 and parameters: {'n_estimators': 204, 'max_depth': 10, 'min_samples_split': 7, 'min_samples_leaf': 9, 'min_weight_fraction_leaf': 0.10842811177823439}. Best is trial 112 with value: 0.6538842039045183.\n",
      "[I 2023-11-04 15:41:14,180] Trial 205 finished with value: 0.631571625679034 and parameters: {'n_estimators': 10, 'max_depth': 10, 'min_samples_split': 6, 'min_samples_leaf': 9, 'min_weight_fraction_leaf': 0.02951430899015285}. Best is trial 112 with value: 0.6538842039045183.\n",
      "[I 2023-11-04 15:41:15,210] Trial 206 finished with value: 0.6468663140515499 and parameters: {'n_estimators': 134, 'max_depth': 10, 'min_samples_split': 5, 'min_samples_leaf': 8, 'min_weight_fraction_leaf': 0.08223638235714682}. Best is trial 112 with value: 0.6538842039045183.\n",
      "[I 2023-11-04 15:41:21,281] Trial 207 finished with value: 0.6477850538115008 and parameters: {'n_estimators': 869, 'max_depth': 10, 'min_samples_split': 7, 'min_samples_leaf': 10, 'min_weight_fraction_leaf': 0.06108003289993512}. Best is trial 112 with value: 0.6538842039045183.\n",
      "[I 2023-11-04 15:41:23,886] Trial 208 finished with value: 0.6163265628375816 and parameters: {'n_estimators': 240, 'max_depth': 10, 'min_samples_split': 8, 'min_samples_leaf': 9, 'min_weight_fraction_leaf': 0.0033575519999692605}. Best is trial 112 with value: 0.6538842039045183.\n",
      "[I 2023-11-04 15:41:25,074] Trial 209 finished with value: 0.6464167365195996 and parameters: {'n_estimators': 181, 'max_depth': 10, 'min_samples_split': 6, 'min_samples_leaf': 10, 'min_weight_fraction_leaf': 0.09676916058325274}. Best is trial 112 with value: 0.6538842039045183.\n",
      "[I 2023-11-04 15:41:25,737] Trial 210 finished with value: 0.6540845490247846 and parameters: {'n_estimators': 78, 'max_depth': 9, 'min_samples_split': 6, 'min_samples_leaf': 9, 'min_weight_fraction_leaf': 0.11912221055677509}. Best is trial 210 with value: 0.6540845490247846.\n",
      "[I 2023-11-04 15:41:26,406] Trial 211 finished with value: 0.6485817559981673 and parameters: {'n_estimators': 91, 'max_depth': 9, 'min_samples_split': 6, 'min_samples_leaf': 9, 'min_weight_fraction_leaf': 0.12415219089659793}. Best is trial 210 with value: 0.6540845490247846.\n",
      "[I 2023-11-04 15:41:27,017] Trial 212 finished with value: 0.6438263775097551 and parameters: {'n_estimators': 75, 'max_depth': 9, 'min_samples_split': 6, 'min_samples_leaf': 9, 'min_weight_fraction_leaf': 0.13513786906014597}. Best is trial 210 with value: 0.6540845490247846.\n",
      "[I 2023-11-04 15:41:28,027] Trial 213 finished with value: 0.6495165464832828 and parameters: {'n_estimators': 144, 'max_depth': 9, 'min_samples_split': 6, 'min_samples_leaf': 9, 'min_weight_fraction_leaf': 0.1167288077374403}. Best is trial 210 with value: 0.6540845490247846.\n",
      "[I 2023-11-04 15:41:29,797] Trial 214 finished with value: 0.6516844861213524 and parameters: {'n_estimators': 299, 'max_depth': 10, 'min_samples_split': 6, 'min_samples_leaf': 9, 'min_weight_fraction_leaf': 0.14497914547256843}. Best is trial 210 with value: 0.6540845490247846.\n",
      "[I 2023-11-04 15:41:31,835] Trial 215 finished with value: 0.6506682825889111 and parameters: {'n_estimators': 322, 'max_depth': 10, 'min_samples_split': 6, 'min_samples_leaf': 9, 'min_weight_fraction_leaf': 0.1438507360360778}. Best is trial 210 with value: 0.6540845490247846.\n",
      "[I 2023-11-04 15:41:33,817] Trial 216 finished with value: 0.6491614027134285 and parameters: {'n_estimators': 308, 'max_depth': 10, 'min_samples_split': 6, 'min_samples_leaf': 9, 'min_weight_fraction_leaf': 0.14224158238592738}. Best is trial 210 with value: 0.6540845490247846.\n",
      "[I 2023-11-04 15:41:36,038] Trial 217 finished with value: 0.6492509587835339 and parameters: {'n_estimators': 358, 'max_depth': 9, 'min_samples_split': 6, 'min_samples_leaf': 9, 'min_weight_fraction_leaf': 0.14672888866907208}. Best is trial 210 with value: 0.6540845490247846.\n",
      "[I 2023-11-04 15:41:36,490] Trial 218 finished with value: 0.6536882187193116 and parameters: {'n_estimators': 52, 'max_depth': 10, 'min_samples_split': 10, 'min_samples_leaf': 9, 'min_weight_fraction_leaf': 0.12754827625430015}. Best is trial 210 with value: 0.6540845490247846.\n",
      "[I 2023-11-04 15:41:36,922] Trial 219 finished with value: 0.6481924491214269 and parameters: {'n_estimators': 51, 'max_depth': 8, 'min_samples_split': 10, 'min_samples_leaf': 9, 'min_weight_fraction_leaf': 0.13303570705845383}. Best is trial 210 with value: 0.6540845490247846.\n",
      "[I 2023-11-04 15:41:37,529] Trial 220 finished with value: 0.6516288161881105 and parameters: {'n_estimators': 80, 'max_depth': 10, 'min_samples_split': 10, 'min_samples_leaf': 9, 'min_weight_fraction_leaf': 0.12706424412810735}. Best is trial 210 with value: 0.6540845490247846.\n",
      "[I 2023-11-04 15:41:38,243] Trial 221 finished with value: 0.6499412810537214 and parameters: {'n_estimators': 100, 'max_depth': 10, 'min_samples_split': 10, 'min_samples_leaf': 9, 'min_weight_fraction_leaf': 0.1254921956997454}. Best is trial 210 with value: 0.6540845490247846.\n",
      "[I 2023-11-04 15:41:38,635] Trial 222 finished with value: 0.6517961867777333 and parameters: {'n_estimators': 42, 'max_depth': 10, 'min_samples_split': 10, 'min_samples_leaf': 9, 'min_weight_fraction_leaf': 0.11708016908594716}. Best is trial 210 with value: 0.6540845490247846.\n",
      "[I 2023-11-04 15:41:38,790] Trial 223 finished with value: 0.6492371646872446 and parameters: {'n_estimators': 10, 'max_depth': 10, 'min_samples_split': 10, 'min_samples_leaf': 9, 'min_weight_fraction_leaf': 0.10914592596488598}. Best is trial 210 with value: 0.6540845490247846.\n",
      "[I 2023-11-04 15:41:39,258] Trial 224 finished with value: 0.6491234245006713 and parameters: {'n_estimators': 57, 'max_depth': 10, 'min_samples_split': 10, 'min_samples_leaf': 9, 'min_weight_fraction_leaf': 0.11961137281860361}. Best is trial 210 with value: 0.6540845490247846.\n",
      "[I 2023-11-04 15:41:39,662] Trial 225 finished with value: 0.6532598749483473 and parameters: {'n_estimators': 45, 'max_depth': 10, 'min_samples_split': 10, 'min_samples_leaf': 9, 'min_weight_fraction_leaf': 0.13005041769753806}. Best is trial 210 with value: 0.6540845490247846.\n",
      "[I 2023-11-04 15:41:40,074] Trial 226 finished with value: 0.6496829825593904 and parameters: {'n_estimators': 48, 'max_depth': 10, 'min_samples_split': 10, 'min_samples_leaf': 9, 'min_weight_fraction_leaf': 0.13122796009027532}. Best is trial 210 with value: 0.6540845490247846.\n",
      "[I 2023-11-04 15:41:40,781] Trial 227 finished with value: 0.6526327320392242 and parameters: {'n_estimators': 99, 'max_depth': 10, 'min_samples_split': 10, 'min_samples_leaf': 9, 'min_weight_fraction_leaf': 0.12339858563888605}. Best is trial 210 with value: 0.6540845490247846.\n",
      "[I 2023-11-04 15:41:41,461] Trial 228 finished with value: 0.6475688849565394 and parameters: {'n_estimators': 93, 'max_depth': 10, 'min_samples_split': 10, 'min_samples_leaf': 9, 'min_weight_fraction_leaf': 0.11835147035565659}. Best is trial 210 with value: 0.6540845490247846.\n",
      "[I 2023-11-04 15:41:41,620] Trial 229 finished with value: 0.6528683122236622 and parameters: {'n_estimators': 10, 'max_depth': 10, 'min_samples_split': 10, 'min_samples_leaf': 9, 'min_weight_fraction_leaf': 0.13084855228656586}. Best is trial 210 with value: 0.6540845490247846.\n",
      "[I 2023-11-04 15:41:41,815] Trial 230 finished with value: 0.6424803047632353 and parameters: {'n_estimators': 11, 'max_depth': 10, 'min_samples_split': 10, 'min_samples_leaf': 9, 'min_weight_fraction_leaf': 0.13074403500465617}. Best is trial 210 with value: 0.6540845490247846.\n",
      "[I 2023-11-04 15:41:42,226] Trial 231 finished with value: 0.6457969765275559 and parameters: {'n_estimators': 48, 'max_depth': 10, 'min_samples_split': 10, 'min_samples_leaf': 9, 'min_weight_fraction_leaf': 0.12265658735395969}. Best is trial 210 with value: 0.6540845490247846.\n",
      "[I 2023-11-04 15:41:42,883] Trial 232 finished with value: 0.6498025237581319 and parameters: {'n_estimators': 88, 'max_depth': 10, 'min_samples_split': 10, 'min_samples_leaf': 9, 'min_weight_fraction_leaf': 0.11299593119442414}. Best is trial 210 with value: 0.6540845490247846.\n",
      "[I 2023-11-04 15:41:43,624] Trial 233 finished with value: 0.6476836744534133 and parameters: {'n_estimators': 115, 'max_depth': 10, 'min_samples_split': 10, 'min_samples_leaf': 9, 'min_weight_fraction_leaf': 0.1528579872392412}. Best is trial 210 with value: 0.6540845490247846.\n",
      "[I 2023-11-04 15:41:44,166] Trial 234 finished with value: 0.6527531348646329 and parameters: {'n_estimators': 66, 'max_depth': 10, 'min_samples_split': 10, 'min_samples_leaf': 9, 'min_weight_fraction_leaf': 0.13407171180445132}. Best is trial 210 with value: 0.6540845490247846.\n",
      "[I 2023-11-04 15:41:44,584] Trial 235 finished with value: 0.6451507190425516 and parameters: {'n_estimators': 45, 'max_depth': 10, 'min_samples_split': 10, 'min_samples_leaf': 9, 'min_weight_fraction_leaf': 0.1352008942628932}. Best is trial 210 with value: 0.6540845490247846.\n",
      "[I 2023-11-04 15:41:45,188] Trial 236 finished with value: 0.6486540389265435 and parameters: {'n_estimators': 73, 'max_depth': 10, 'min_samples_split': 10, 'min_samples_leaf': 9, 'min_weight_fraction_leaf': 0.1269973216562919}. Best is trial 210 with value: 0.6540845490247846.\n",
      "[I 2023-11-04 15:41:45,379] Trial 237 finished with value: 0.6438627621036433 and parameters: {'n_estimators': 14, 'max_depth': 10, 'min_samples_split': 10, 'min_samples_leaf': 8, 'min_weight_fraction_leaf': 0.1658264360453494}. Best is trial 210 with value: 0.6540845490247846.\n",
      "[I 2023-11-04 15:41:46,137] Trial 238 finished with value: 0.6490198226143409 and parameters: {'n_estimators': 109, 'max_depth': 10, 'min_samples_split': 10, 'min_samples_leaf': 9, 'min_weight_fraction_leaf': 0.14433601903825607}. Best is trial 210 with value: 0.6540845490247846.\n",
      "[I 2023-11-04 15:41:46,651] Trial 239 finished with value: 0.6477506923482642 and parameters: {'n_estimators': 60, 'max_depth': 10, 'min_samples_split': 10, 'min_samples_leaf': 9, 'min_weight_fraction_leaf': 0.10676081049448047}. Best is trial 210 with value: 0.6540845490247846.\n",
      "[I 2023-11-04 15:41:47,533] Trial 240 finished with value: 0.6468366095372784 and parameters: {'n_estimators': 129, 'max_depth': 10, 'min_samples_split': 10, 'min_samples_leaf': 9, 'min_weight_fraction_leaf': 0.1179245311186504}. Best is trial 210 with value: 0.6540845490247846.\n",
      "[I 2023-11-04 15:41:48,130] Trial 241 finished with value: 0.6481715248692346 and parameters: {'n_estimators': 81, 'max_depth': 10, 'min_samples_split': 9, 'min_samples_leaf': 9, 'min_weight_fraction_leaf': 0.13480127480580906}. Best is trial 210 with value: 0.6540845490247846.\n",
      "[I 2023-11-04 15:41:48,517] Trial 242 finished with value: 0.6427677678885424 and parameters: {'n_estimators': 42, 'max_depth': 10, 'min_samples_split': 10, 'min_samples_leaf': 9, 'min_weight_fraction_leaf': 0.125627586298472}. Best is trial 210 with value: 0.6540845490247846.\n",
      "[I 2023-11-04 15:41:49,575] Trial 243 finished with value: 0.6474738498779475 and parameters: {'n_estimators': 150, 'max_depth': 10, 'min_samples_split': 10, 'min_samples_leaf': 9, 'min_weight_fraction_leaf': 0.11407661165865711}. Best is trial 210 with value: 0.6540845490247846.\n",
      "[I 2023-11-04 15:41:50,447] Trial 244 finished with value: 0.649718705444823 and parameters: {'n_estimators': 123, 'max_depth': 10, 'min_samples_split': 10, 'min_samples_leaf': 9, 'min_weight_fraction_leaf': 0.10226807358248705}. Best is trial 210 with value: 0.6540845490247846.\n",
      "[I 2023-11-04 15:41:51,083] Trial 245 finished with value: 0.6472010042100016 and parameters: {'n_estimators': 78, 'max_depth': 10, 'min_samples_split': 10, 'min_samples_leaf': 9, 'min_weight_fraction_leaf': 0.13876226232507988}. Best is trial 210 with value: 0.6540845490247846.\n",
      "[I 2023-11-04 15:41:51,432] Trial 246 finished with value: 0.6440239170069948 and parameters: {'n_estimators': 37, 'max_depth': 10, 'min_samples_split': 9, 'min_samples_leaf': 9, 'min_weight_fraction_leaf': 0.1246585342610785}. Best is trial 210 with value: 0.6540845490247846.\n",
      "[I 2023-11-04 15:41:52,486] Trial 247 finished with value: 0.650841504430565 and parameters: {'n_estimators': 160, 'max_depth': 10, 'min_samples_split': 10, 'min_samples_leaf': 8, 'min_weight_fraction_leaf': 0.15446607899776704}. Best is trial 210 with value: 0.6540845490247846.\n",
      "[I 2023-11-04 15:41:52,648] Trial 248 finished with value: 0.6388565070845054 and parameters: {'n_estimators': 10, 'max_depth': 10, 'min_samples_split': 10, 'min_samples_leaf': 8, 'min_weight_fraction_leaf': 0.16194936024336423}. Best is trial 210 with value: 0.6540845490247846.\n",
      "[I 2023-11-04 15:41:53,410] Trial 249 finished with value: 0.6487241055741211 and parameters: {'n_estimators': 106, 'max_depth': 10, 'min_samples_split': 10, 'min_samples_leaf': 8, 'min_weight_fraction_leaf': 0.13578558480211841}. Best is trial 210 with value: 0.6540845490247846.\n",
      "[I 2023-11-04 15:41:54,375] Trial 250 finished with value: 0.6463964062952183 and parameters: {'n_estimators': 145, 'max_depth': 10, 'min_samples_split': 10, 'min_samples_leaf': 9, 'min_weight_fraction_leaf': 0.15433740181316147}. Best is trial 210 with value: 0.6540845490247846.\n",
      "[I 2023-11-04 15:41:54,964] Trial 251 finished with value: 0.6425462725668549 and parameters: {'n_estimators': 71, 'max_depth': 4, 'min_samples_split': 10, 'min_samples_leaf': 9, 'min_weight_fraction_leaf': 0.11553330195187703}. Best is trial 210 with value: 0.6540845490247846.\n",
      "[I 2023-11-04 15:41:55,690] Trial 252 finished with value: 0.6421077691502137 and parameters: {'n_estimators': 102, 'max_depth': 10, 'min_samples_split': 10, 'min_samples_leaf': 9, 'min_weight_fraction_leaf': 0.14511067208566733}. Best is trial 210 with value: 0.6540845490247846.\n",
      "[I 2023-11-04 15:41:59,695] Trial 253 finished with value: 0.6488381995222173 and parameters: {'n_estimators': 777, 'max_depth': 10, 'min_samples_split': 10, 'min_samples_leaf': 9, 'min_weight_fraction_leaf': 0.12810122413335348}. Best is trial 210 with value: 0.6540845490247846.\n",
      "[I 2023-11-04 15:42:00,846] Trial 254 finished with value: 0.6490008543327761 and parameters: {'n_estimators': 156, 'max_depth': 10, 'min_samples_split': 9, 'min_samples_leaf': 9, 'min_weight_fraction_leaf': 0.10568815467477327}. Best is trial 210 with value: 0.6540845490247846.\n",
      "[I 2023-11-04 15:42:01,267] Trial 255 finished with value: 0.650950429399589 and parameters: {'n_estimators': 47, 'max_depth': 10, 'min_samples_split': 10, 'min_samples_leaf': 9, 'min_weight_fraction_leaf': 0.1505234873228359}. Best is trial 210 with value: 0.6540845490247846.\n",
      "[I 2023-11-04 15:42:01,589] Trial 256 finished with value: 0.6116900198470366 and parameters: {'n_estimators': 45, 'max_depth': 8, 'min_samples_split': 10, 'min_samples_leaf': 9, 'min_weight_fraction_leaf': 0.4410272531721671}. Best is trial 210 with value: 0.6540845490247846.\n",
      "[I 2023-11-04 15:42:01,742] Trial 257 finished with value: 0.6422612818675552 and parameters: {'n_estimators': 11, 'max_depth': 10, 'min_samples_split': 9, 'min_samples_leaf': 9, 'min_weight_fraction_leaf': 0.18142883552561193}. Best is trial 210 with value: 0.6540845490247846.\n",
      "[I 2023-11-04 15:42:02,447] Trial 258 finished with value: 0.6473781697507512 and parameters: {'n_estimators': 75, 'max_depth': 10, 'min_samples_split': 10, 'min_samples_leaf': 9, 'min_weight_fraction_leaf': 0.12033942100294763}. Best is trial 210 with value: 0.6540845490247846.\n",
      "[I 2023-11-04 15:42:03,261] Trial 259 finished with value: 0.6494884860880535 and parameters: {'n_estimators': 106, 'max_depth': 10, 'min_samples_split': 10, 'min_samples_leaf': 9, 'min_weight_fraction_leaf': 0.1008793167026818}. Best is trial 210 with value: 0.6540845490247846.\n",
      "[I 2023-11-04 15:42:03,758] Trial 260 finished with value: 0.6440769874828657 and parameters: {'n_estimators': 60, 'max_depth': 10, 'min_samples_split': 10, 'min_samples_leaf': 9, 'min_weight_fraction_leaf': 0.13416414152570716}. Best is trial 210 with value: 0.6540845490247846.\n",
      "[I 2023-11-04 15:42:04,200] Trial 261 finished with value: 0.647853661160258 and parameters: {'n_estimators': 47, 'max_depth': 10, 'min_samples_split': 8, 'min_samples_leaf': 9, 'min_weight_fraction_leaf': 0.10875560253593225}. Best is trial 210 with value: 0.6540845490247846.\n",
      "[I 2023-11-04 15:42:04,933] Trial 262 finished with value: 0.6513705041576506 and parameters: {'n_estimators': 114, 'max_depth': 10, 'min_samples_split': 8, 'min_samples_leaf': 9, 'min_weight_fraction_leaf': 0.14450479397430255}. Best is trial 210 with value: 0.6540845490247846.\n",
      "[I 2023-11-04 15:42:05,555] Trial 263 finished with value: 0.6232381045319121 and parameters: {'n_estimators': 122, 'max_depth': 10, 'min_samples_split': 8, 'min_samples_leaf': 9, 'min_weight_fraction_leaf': 0.3922269412153626}. Best is trial 210 with value: 0.6540845490247846.\n",
      "[I 2023-11-04 15:42:06,243] Trial 264 finished with value: 0.6450739546142656 and parameters: {'n_estimators': 96, 'max_depth': 10, 'min_samples_split': 8, 'min_samples_leaf': 9, 'min_weight_fraction_leaf': 0.1270721700363153}. Best is trial 210 with value: 0.6540845490247846.\n",
      "[I 2023-11-04 15:42:10,027] Trial 265 finished with value: 0.6493808842756302 and parameters: {'n_estimators': 686, 'max_depth': 10, 'min_samples_split': 8, 'min_samples_leaf': 9, 'min_weight_fraction_leaf': 0.1170180399632692}. Best is trial 210 with value: 0.6540845490247846.\n",
      "[I 2023-11-04 15:42:11,157] Trial 266 finished with value: 0.6516699904891514 and parameters: {'n_estimators': 186, 'max_depth': 7, 'min_samples_split': 8, 'min_samples_leaf': 9, 'min_weight_fraction_leaf': 0.1366662331475545}. Best is trial 210 with value: 0.6540845490247846.\n",
      "[I 2023-11-04 15:42:12,352] Trial 267 finished with value: 0.6506386202448875 and parameters: {'n_estimators': 198, 'max_depth': 8, 'min_samples_split': 8, 'min_samples_leaf': 9, 'min_weight_fraction_leaf': 0.13849542554734268}. Best is trial 210 with value: 0.6540845490247846.\n",
      "[I 2023-11-04 15:42:13,587] Trial 268 finished with value: 0.6481798042945441 and parameters: {'n_estimators': 174, 'max_depth': 7, 'min_samples_split': 9, 'min_samples_leaf': 9, 'min_weight_fraction_leaf': 0.14562393716038616}. Best is trial 210 with value: 0.6540845490247846.\n",
      "[I 2023-11-04 15:42:14,209] Trial 269 finished with value: 0.6481141993633031 and parameters: {'n_estimators': 84, 'max_depth': 7, 'min_samples_split': 4, 'min_samples_leaf': 9, 'min_weight_fraction_leaf': 0.13022375732071514}. Best is trial 210 with value: 0.6540845490247846.\n",
      "[I 2023-11-04 15:42:15,016] Trial 270 finished with value: 0.646802530770888 and parameters: {'n_estimators': 129, 'max_depth': 7, 'min_samples_split': 8, 'min_samples_leaf': 9, 'min_weight_fraction_leaf': 0.16619800036681281}. Best is trial 210 with value: 0.6540845490247846.\n",
      "[I 2023-11-04 15:42:16,170] Trial 271 finished with value: 0.6491715246141306 and parameters: {'n_estimators': 194, 'max_depth': 9, 'min_samples_split': 7, 'min_samples_leaf': 9, 'min_weight_fraction_leaf': 0.13841278044224453}. Best is trial 210 with value: 0.6540845490247846.\n",
      "[I 2023-11-04 15:42:16,739] Trial 272 finished with value: 0.6405949396254551 and parameters: {'n_estimators': 85, 'max_depth': 2, 'min_samples_split': 9, 'min_samples_leaf': 9, 'min_weight_fraction_leaf': 0.11988300934612849}. Best is trial 210 with value: 0.6540845490247846.\n",
      "[I 2023-11-04 15:42:16,905] Trial 273 finished with value: 0.6385182238647585 and parameters: {'n_estimators': 11, 'max_depth': 8, 'min_samples_split': 8, 'min_samples_leaf': 9, 'min_weight_fraction_leaf': 0.12764816060904063}. Best is trial 210 with value: 0.6540845490247846.\n",
      "[I 2023-11-04 15:42:17,895] Trial 274 finished with value: 0.6475714396405609 and parameters: {'n_estimators': 142, 'max_depth': 10, 'min_samples_split': 7, 'min_samples_leaf': 9, 'min_weight_fraction_leaf': 0.11130950396624116}. Best is trial 210 with value: 0.6540845490247846.\n",
      "[I 2023-11-04 15:42:19,076] Trial 275 finished with value: 0.6421903067374796 and parameters: {'n_estimators': 222, 'max_depth': 10, 'min_samples_split': 7, 'min_samples_leaf': 8, 'min_weight_fraction_leaf': 0.2665398113736253}. Best is trial 210 with value: 0.6540845490247846.\n",
      "[I 2023-11-04 15:42:19,478] Trial 276 finished with value: 0.6556958216088982 and parameters: {'n_estimators': 45, 'max_depth': 10, 'min_samples_split': 8, 'min_samples_leaf': 9, 'min_weight_fraction_leaf': 0.14663230743423972}. Best is trial 276 with value: 0.6556958216088982.\n",
      "[I 2023-11-04 15:42:19,864] Trial 277 finished with value: 0.6446981271188174 and parameters: {'n_estimators': 43, 'max_depth': 9, 'min_samples_split': 8, 'min_samples_leaf': 9, 'min_weight_fraction_leaf': 0.13984662446811005}. Best is trial 276 with value: 0.6556958216088982.\n",
      "[I 2023-11-04 15:42:20,420] Trial 278 finished with value: 0.6482692507740675 and parameters: {'n_estimators': 73, 'max_depth': 6, 'min_samples_split': 8, 'min_samples_leaf': 9, 'min_weight_fraction_leaf': 0.1760051843130449}. Best is trial 276 with value: 0.6556958216088982.\n",
      "[I 2023-11-04 15:42:20,662] Trial 279 finished with value: 0.6510281403156581 and parameters: {'n_estimators': 11, 'max_depth': 10, 'min_samples_split': 8, 'min_samples_leaf': 9, 'min_weight_fraction_leaf': 0.14365286854589124}. Best is trial 276 with value: 0.6556958216088982.\n",
      "[I 2023-11-04 15:42:21,356] Trial 280 finished with value: 0.6408658423382821 and parameters: {'n_estimators': 101, 'max_depth': 10, 'min_samples_split': 4, 'min_samples_leaf': 9, 'min_weight_fraction_leaf': 0.15950040935121465}. Best is trial 276 with value: 0.6556958216088982.\n",
      "[I 2023-11-04 15:42:21,831] Trial 281 finished with value: 0.6473769291124747 and parameters: {'n_estimators': 58, 'max_depth': 10, 'min_samples_split': 5, 'min_samples_leaf': 9, 'min_weight_fraction_leaf': 0.1461972282333876}. Best is trial 276 with value: 0.6556958216088982.\n",
      "[I 2023-11-04 15:42:22,499] Trial 282 finished with value: 0.648513757775211 and parameters: {'n_estimators': 114, 'max_depth': 10, 'min_samples_split': 7, 'min_samples_leaf': 10, 'min_weight_fraction_leaf': 0.19201265538471807}. Best is trial 276 with value: 0.6556958216088982.\n",
      "[I 2023-11-04 15:42:22,908] Trial 283 finished with value: 0.6447685706955231 and parameters: {'n_estimators': 49, 'max_depth': 10, 'min_samples_split': 8, 'min_samples_leaf': 9, 'min_weight_fraction_leaf': 0.1538495104015748}. Best is trial 276 with value: 0.6556958216088982.\n",
      "[I 2023-11-04 15:42:23,958] Trial 284 finished with value: 0.6501746163232418 and parameters: {'n_estimators': 155, 'max_depth': 9, 'min_samples_split': 10, 'min_samples_leaf': 9, 'min_weight_fraction_leaf': 0.13214548832512454}. Best is trial 276 with value: 0.6556958216088982.\n",
      "[I 2023-11-04 15:42:24,626] Trial 285 finished with value: 0.6483421670370907 and parameters: {'n_estimators': 85, 'max_depth': 10, 'min_samples_split': 5, 'min_samples_leaf': 10, 'min_weight_fraction_leaf': 0.10028372064567992}. Best is trial 276 with value: 0.6556958216088982.\n",
      "[I 2023-11-04 15:42:24,796] Trial 286 finished with value: 0.6463836643726416 and parameters: {'n_estimators': 10, 'max_depth': 5, 'min_samples_split': 8, 'min_samples_leaf': 9, 'min_weight_fraction_leaf': 0.11043458331919194}. Best is trial 276 with value: 0.6556958216088982.\n",
      "[I 2023-11-04 15:42:25,662] Trial 287 finished with value: 0.644740258320048 and parameters: {'n_estimators': 130, 'max_depth': 8, 'min_samples_split': 7, 'min_samples_leaf': 8, 'min_weight_fraction_leaf': 0.12011153027481612}. Best is trial 276 with value: 0.6556958216088982.\n",
      "[I 2023-11-04 15:42:26,233] Trial 288 finished with value: 0.6443618360528118 and parameters: {'n_estimators': 73, 'max_depth': 10, 'min_samples_split': 10, 'min_samples_leaf': 9, 'min_weight_fraction_leaf': 0.17224052695570352}. Best is trial 276 with value: 0.6556958216088982.\n",
      "[I 2023-11-04 15:42:26,751] Trial 289 finished with value: 0.6481866796067894 and parameters: {'n_estimators': 53, 'max_depth': 10, 'min_samples_split': 6, 'min_samples_leaf': 1, 'min_weight_fraction_leaf': 0.12893455725511715}. Best is trial 276 with value: 0.6556958216088982.\n",
      "[I 2023-11-04 15:42:27,674] Trial 290 finished with value: 0.646484805026302 and parameters: {'n_estimators': 108, 'max_depth': 10, 'min_samples_split': 8, 'min_samples_leaf': 5, 'min_weight_fraction_leaf': 0.15085058428560133}. Best is trial 276 with value: 0.6556958216088982.\n",
      "[I 2023-11-04 15:42:29,028] Trial 291 finished with value: 0.6478874499411175 and parameters: {'n_estimators': 167, 'max_depth': 10, 'min_samples_split': 7, 'min_samples_leaf': 3, 'min_weight_fraction_leaf': 0.10382136330825187}. Best is trial 276 with value: 0.6556958216088982.\n",
      "[I 2023-11-04 15:42:29,489] Trial 292 finished with value: 0.6480525329249546 and parameters: {'n_estimators': 46, 'max_depth': 9, 'min_samples_split': 10, 'min_samples_leaf': 9, 'min_weight_fraction_leaf': 0.11684188347100975}. Best is trial 276 with value: 0.6556958216088982.\n",
      "[I 2023-11-04 15:42:30,932] Trial 293 finished with value: 0.6458824931044226 and parameters: {'n_estimators': 223, 'max_depth': 7, 'min_samples_split': 6, 'min_samples_leaf': 10, 'min_weight_fraction_leaf': 0.13637761702167375}. Best is trial 276 with value: 0.6556958216088982.\n",
      "[I 2023-11-04 15:42:32,045] Trial 294 finished with value: 0.6475797987207826 and parameters: {'n_estimators': 135, 'max_depth': 10, 'min_samples_split': 10, 'min_samples_leaf': 9, 'min_weight_fraction_leaf': 0.09078519936118903}. Best is trial 276 with value: 0.6556958216088982.\n",
      "[I 2023-11-04 15:42:32,871] Trial 295 finished with value: 0.6425394061051555 and parameters: {'n_estimators': 95, 'max_depth': 10, 'min_samples_split': 5, 'min_samples_leaf': 9, 'min_weight_fraction_leaf': 0.11051767997050946}. Best is trial 276 with value: 0.6556958216088982.\n",
      "[I 2023-11-04 15:42:33,226] Trial 296 finished with value: 0.6382038766858865 and parameters: {'n_estimators': 38, 'max_depth': 10, 'min_samples_split': 6, 'min_samples_leaf': 9, 'min_weight_fraction_leaf': 0.16050355732574584}. Best is trial 276 with value: 0.6556958216088982.\n",
      "[I 2023-11-04 15:42:34,668] Trial 297 finished with value: 0.6481438695166319 and parameters: {'n_estimators': 174, 'max_depth': 10, 'min_samples_split': 7, 'min_samples_leaf': 8, 'min_weight_fraction_leaf': 0.1258877004285675}. Best is trial 276 with value: 0.6556958216088982.\n",
      "[I 2023-11-04 15:42:35,828] Trial 298 finished with value: 0.6286679950919455 and parameters: {'n_estimators': 90, 'max_depth': 10, 'min_samples_split': 8, 'min_samples_leaf': 10, 'min_weight_fraction_leaf': 0.014264561963913402}. Best is trial 276 with value: 0.6556958216088982.\n",
      "[I 2023-11-04 15:42:36,062] Trial 299 finished with value: 0.6504027615285661 and parameters: {'n_estimators': 11, 'max_depth': 9, 'min_samples_split': 10, 'min_samples_leaf': 9, 'min_weight_fraction_leaf': 0.2906013481213937}. Best is trial 276 with value: 0.6556958216088982.\n"
     ]
    }
   ],
   "source": [
    "# Créer un objet Optuna Study\n",
    "study = create_study(direction=\"maximize\")\n",
    "\n",
    "class_weights = {0: 1, 1: 1}\n",
    "\n",
    "# Définition de l'espace de recherche\n",
    "def objective(trial: Trial):\n",
    "    n_estimators = trial.suggest_int(\"n_estimators\", 10, 2000)\n",
    "    max_depth = trial.suggest_int(\"max_depth\", 1, 10)\n",
    "    min_samples_split = trial.suggest_int(\"min_samples_split\", 2, 10)\n",
    "    min_samples_leaf = trial.suggest_int(\"min_samples_leaf\", 1, 10)\n",
    "    min_weight_fraction_leaf = trial.suggest_uniform('min_weight_fraction_leaf', 0.0, 0.5)\n",
    "\n",
    "\n",
    "    # Créer un modèle RandomForestClassifier avec les paramètres suggérés\n",
    "    clf = RandomForestClassifier(n_estimators=n_estimators,\n",
    "                                  max_depth=max_depth,\n",
    "                                  min_samples_split=min_samples_split,\n",
    "                                  min_samples_leaf=min_samples_leaf,\n",
    "                                  min_weight_fraction_leaf= min_weight_fraction_leaf,\n",
    "                                  class_weight = class_weights, \n",
    "                                  n_jobs = -1)\n",
    "    \n",
    "    # Évaluation à l'aide de la validation croisée avec ROC AUC comme métrique\n",
    "    scores = cross_val_score(clf, X_train, y_train, cv=5, scoring='roc_auc')\n",
    "    return scores.mean()\n",
    "\n",
    "# Création de l'étude Optuna\n",
    "study = optuna.create_study(direction='maximize')\n",
    "study.optimize(objective, n_trials=300)\n",
    "\n",
    "# Affichage des meilleurs hyperparamètres et de la meilleure ROC AUC moyenne\n",
    "best_params = study.best_params\n",
    "best_auc = study.best_value"
   ]
  },
  {
   "cell_type": "code",
   "execution_count": 25,
   "metadata": {},
   "outputs": [
    {
     "data": {
      "text/plain": [
       "0.6556958216088982"
      ]
     },
     "execution_count": 25,
     "metadata": {},
     "output_type": "execute_result"
    }
   ],
   "source": [
    "best_auc"
   ]
  },
  {
   "cell_type": "code",
   "execution_count": null,
   "metadata": {},
   "outputs": [
    {
     "data": {
      "application/vnd.plotly.v1+json": {
       "config": {
        "plotlyServerURL": "https://plot.ly"
       },
       "data": [
        {
         "mode": "markers",
         "name": "Objective Value",
         "type": "scatter",
         "x": [
          0,
          1,
          2,
          3,
          4,
          5,
          6,
          7,
          8,
          9,
          10,
          11,
          12,
          13,
          14,
          15,
          16,
          17,
          18,
          19,
          20,
          21,
          22,
          23,
          24,
          25,
          26,
          27,
          28,
          29,
          30,
          31,
          32,
          33,
          34,
          35,
          36,
          37,
          38,
          39,
          40,
          41,
          42,
          43,
          44,
          45,
          46,
          47,
          48,
          49,
          50,
          51,
          52,
          53,
          54,
          55,
          56,
          57,
          58,
          59,
          60,
          61,
          62,
          63,
          64,
          65,
          66,
          67,
          68,
          69,
          70,
          71,
          72,
          73,
          74,
          75,
          76,
          77,
          78,
          79,
          80,
          81,
          82,
          83,
          84,
          85,
          86,
          87,
          88,
          89,
          90,
          91,
          92,
          93,
          94,
          95,
          96,
          97,
          98,
          99,
          100,
          101,
          102,
          103,
          104,
          105,
          106,
          107,
          108,
          109,
          110,
          111,
          112,
          113,
          114,
          115,
          116,
          117,
          118,
          119,
          120,
          121,
          122,
          123,
          124,
          125,
          126,
          127,
          128,
          129,
          130,
          131,
          132,
          133,
          134,
          135,
          136,
          137,
          138,
          139,
          140,
          141,
          142,
          143,
          144,
          145,
          146,
          147,
          148,
          149,
          150,
          151,
          152,
          153,
          154,
          155,
          156,
          157,
          158,
          159,
          160,
          161,
          162,
          163,
          164,
          165,
          166,
          167,
          168,
          169,
          170,
          171,
          172,
          173,
          174,
          175,
          176,
          177,
          178,
          179,
          180,
          181,
          182,
          183,
          184,
          185,
          186,
          187,
          188,
          189,
          190,
          191,
          192,
          193,
          194,
          195,
          196,
          197,
          198,
          199,
          200,
          201,
          202,
          203,
          204,
          205,
          206,
          207,
          208,
          209,
          210,
          211,
          212,
          213,
          214,
          215,
          216,
          217,
          218,
          219,
          220,
          221,
          222,
          223,
          224,
          225,
          226,
          227,
          228,
          229,
          230,
          231,
          232,
          233,
          234,
          235,
          236,
          237,
          238,
          239,
          240,
          241,
          242,
          243,
          244,
          245,
          246,
          247,
          248,
          249,
          250,
          251,
          252,
          253,
          254,
          255,
          256,
          257,
          258,
          259,
          260,
          261,
          262,
          263,
          264,
          265,
          266,
          267,
          268,
          269,
          270,
          271,
          272,
          273,
          274,
          275,
          276,
          277,
          278,
          279,
          280,
          281,
          282,
          283,
          284,
          285,
          286,
          287,
          288,
          289,
          290,
          291,
          292,
          293,
          294,
          295,
          296,
          297,
          298,
          299
         ],
         "y": [
          0.6175360957633901,
          0.6431277883468068,
          0.6403687925589776,
          0.6601674325884963,
          0.6626046453678102,
          0.5346282124390818,
          0.6104793919906459,
          0.6627838662839454,
          0.6628432871224501,
          0.6382260483704794,
          0.6625083261053953,
          0.6551411005314332,
          0.655027050857529,
          0.6568753264552116,
          0.6581811473013834,
          0.6404370786032269,
          0.6599747940636665,
          0.6593158936366991,
          0.6466142102060083,
          0.6616452863461454,
          0.6439965785097829,
          0.6437311015377538,
          0.6589749426157627,
          0.6585999683727796,
          0.6543408360128617,
          0.6589833286211969,
          0.6607774545837906,
          0.6540523574259276,
          0.6570257953527154,
          0.6484433177912698,
          0.6398131597989276,
          0.6547505522783579,
          0.6280864093999933,
          0.6627843454842559,
          0.644346634336619,
          0.655217293380806,
          0.6586871828292945,
          0.6586565140094212,
          0.6362680359016872,
          0.6600457157096239,
          0.6692013168424532,
          0.6644725681782242,
          0.6624858036908008,
          0.6659106483101002,
          0.6630996592885793,
          0.6607352849564647,
          0.6458350305010998,
          0.661874344094575,
          0.660357195911463,
          0.6635429195758119,
          0.6575502800925814,
          0.6611641692343817,
          0.6584346442656496,
          0.6637657477202045,
          0.6610851011831456,
          0.6429569534361057,
          0.6566251838931192,
          0.6614631902281473,
          0.6662029604995183,
          0.6537677124414776,
          0.6541908463156684,
          0.6570401713620311,
          0.6607721833803748,
          0.6637096812838734,
          0.6608383130232269,
          0.6611531476272396,
          0.6609715307095518,
          0.6366698453620598,
          0.6588870093587821,
          0.6629391271845545,
          0.6660457827976671,
          0.6619529329455006,
          0.6642952640633311,
          0.6674536733099803,
          0.6625356405230951,
          0.6556286868473891,
          0.658132987670176,
          0.6656897369669496,
          0.660621714482871,
          0.6597510075186529,
          0.6491050934201006,
          0.6587121012454416,
          0.6612916365169805,
          0.6594649249332714,
          0.6553284678528473,
          0.6655296840632353,
          0.6560642799296534,
          0.6623243131861549,
          0.6628610175339393,
          0.6613040957250539,
          0.6292086965272353,
          0.6635141675571805,
          0.6613088877281593,
          0.6600025876816767,
          0.6602570430465639,
          0.652951634312659,
          0.6643302456859992,
          0.6674455269047015,
          0.6610491611598565,
          0.6552216061836008,
          0.6565676798558566,
          0.666501981493284,
          0.6632309601736622,
          0.6579535271538857,
          0.6579611943588539,
          0.6625471413305475,
          0.6641999032015373,
          0.6605392920294613,
          0.6606840105232388,
          0.6654860768349777,
          0.6547946387069259,
          0.6633042778211721,
          0.6627297166488564,
          0.6440926581720425,
          0.6590604798711908,
          0.6618508632793595,
          0.6617068635860475,
          0.6573947795918171,
          0.6643896665245039,
          0.6611301460123346,
          0.6626952142264988,
          0.6619107633181746,
          0.6667813552743181,
          0.6633478850494294,
          0.6627277998476143,
          0.6597859891413209,
          0.6584068506476393,
          0.6633033194205509,
          0.6626070413693628,
          0.6644117097387878,
          0.6623458772001285,
          0.6588606533417034,
          0.6561287323714187,
          0.6631332033103158,
          0.66043722236332,
          0.6284355068262084,
          0.661843196074391,
          0.6309913216823764,
          0.6630098092303564,
          0.6674301924947648,
          0.6654654712216252,
          0.6617023111830976,
          0.6626190213771259,
          0.6668585065243122,
          0.6598655363928676,
          0.6605335416257351,
          0.6553859718901098,
          0.660589608062066,
          0.6656935705694338,
          0.6679472496298178,
          0.6612748645061122,
          0.6628183687063028,
          0.661477566237463,
          0.6697102275722274,
          0.6575414148868368,
          0.6636416348397793,
          0.6514469453376205,
          0.6627680526736981,
          0.6470406984823726,
          0.6613213469362328,
          0.664304368869231,
          0.6606911985278966,
          0.6399799215069891,
          0.6632606705929146,
          0.6568139888154649,
          0.6530628087847001,
          0.6555158351742612,
          0.6607132417421806,
          0.6614413866140183,
          0.6524568599920453,
          0.6355149726137023,
          0.6646891667185801,
          0.6634897283413439,
          0.6654079671843627,
          0.6493168999573513,
          0.6316133236854338,
          0.6641313775571327,
          0.6682017049947049,
          0.6588261509193457,
          0.6310509821210364,
          0.6567066479459077,
          0.6604607031785357,
          0.6636876380695894,
          0.6580733272315161,
          0.6632707337994356,
          0.6665700279373781,
          0.6520799689478198,
          0.6615815527048461,
          0.6640460799018597,
          0.6559897642813672,
          0.6533062425424452,
          0.6636737412605844,
          0.6654865560352883,
          0.6599599388540404,
          0.6655483728753456,
          0.6614320422079634,
          0.6525376052443682,
          0.6615849071070199,
          0.6562140300266914,
          0.6584830434970123,
          0.6624872412917323,
          0.6670449154451052,
          0.6525198748328789,
          0.6607956641955903,
          0.662204992308835,
          0.6063736037300952,
          0.6663160517728015,
          0.660412303947173,
          0.6621460506706408,
          0.6596618762608959,
          0.6579425055467436,
          0.6615168606629258,
          0.6608924626583157,
          0.6323287697490428,
          0.6620861506318256,
          0.6428081617396888,
          0.6629472735898332,
          0.6612302988772337,
          0.6625433077280632,
          0.6568484912378223,
          0.6640494343040334,
          0.6589392421926289,
          0.6651012789856289,
          0.6615192566644783,
          0.6470713673022461,
          0.661216881268539,
          0.6604554319751199,
          0.6502199529425295,
          0.65423828714641,
          0.6609446954921626,
          0.6592756408106152,
          0.6605958376661027,
          0.6659211907169315,
          0.6649359548784987,
          0.660907317867942,
          0.6645319890167288,
          0.6685275612058597,
          0.6555745372123002,
          0.6556399480546864,
          0.6523389767156569,
          0.664019723884781,
          0.6619548497467427,
          0.6642161960120949,
          0.6581265184659839,
          0.6630042984267854,
          0.6640312246922336,
          0.6650332325415347,
          0.6550447812690182,
          0.6641778599872533,
          0.6368842875010182,
          0.6647433163536691,
          0.6370728528232087,
          0.664612973869207,
          0.6384706801290007,
          0.6358954576602566,
          0.6650897781781763,
          0.6617147703911712,
          0.659744777914616,
          0.6626655038072464,
          0.6663575025996618,
          0.654345628015967,
          0.6671757371298777,
          0.6609629051039625,
          0.6542488295532415,
          0.6624316540557118,
          0.6635510659810908,
          0.6640997503366382,
          0.6623918804299386,
          0.641558407329848,
          0.6477705205552973,
          0.669919158907615,
          0.660028464498445,
          0.6580920160436265,
          0.6599599388540405,
          0.6582568609504458,
          0.6644572337682875,
          0.66267796301532,
          0.6584753762920437,
          0.662975546408154,
          0.6233835375525323,
          0.6553370934584365,
          0.66166780876074,
          0.6633478850494294,
          0.6499106291420877,
          0.6663725974094431,
          0.6423926950704664,
          0.6547342594678001,
          0.6604918511987196,
          0.6596906282795272,
          0.6642406352279316,
          0.6596978162841849,
          0.6573482971616965,
          0.6385341741701448,
          0.6520457061256175,
          0.6622193683181508,
          0.5352696220547151,
          0.6520957825580671,
          0.6567430671695076,
          0.655062032480197,
          0.594593662096693
         ]
        },
        {
         "mode": "lines",
         "name": "Best Value",
         "type": "scatter",
         "x": [
          0,
          1,
          2,
          3,
          4,
          5,
          6,
          7,
          8,
          9,
          10,
          11,
          12,
          13,
          14,
          15,
          16,
          17,
          18,
          19,
          20,
          21,
          22,
          23,
          24,
          25,
          26,
          27,
          28,
          29,
          30,
          31,
          32,
          33,
          34,
          35,
          36,
          37,
          38,
          39,
          40,
          41,
          42,
          43,
          44,
          45,
          46,
          47,
          48,
          49,
          50,
          51,
          52,
          53,
          54,
          55,
          56,
          57,
          58,
          59,
          60,
          61,
          62,
          63,
          64,
          65,
          66,
          67,
          68,
          69,
          70,
          71,
          72,
          73,
          74,
          75,
          76,
          77,
          78,
          79,
          80,
          81,
          82,
          83,
          84,
          85,
          86,
          87,
          88,
          89,
          90,
          91,
          92,
          93,
          94,
          95,
          96,
          97,
          98,
          99,
          100,
          101,
          102,
          103,
          104,
          105,
          106,
          107,
          108,
          109,
          110,
          111,
          112,
          113,
          114,
          115,
          116,
          117,
          118,
          119,
          120,
          121,
          122,
          123,
          124,
          125,
          126,
          127,
          128,
          129,
          130,
          131,
          132,
          133,
          134,
          135,
          136,
          137,
          138,
          139,
          140,
          141,
          142,
          143,
          144,
          145,
          146,
          147,
          148,
          149,
          150,
          151,
          152,
          153,
          154,
          155,
          156,
          157,
          158,
          159,
          160,
          161,
          162,
          163,
          164,
          165,
          166,
          167,
          168,
          169,
          170,
          171,
          172,
          173,
          174,
          175,
          176,
          177,
          178,
          179,
          180,
          181,
          182,
          183,
          184,
          185,
          186,
          187,
          188,
          189,
          190,
          191,
          192,
          193,
          194,
          195,
          196,
          197,
          198,
          199,
          200,
          201,
          202,
          203,
          204,
          205,
          206,
          207,
          208,
          209,
          210,
          211,
          212,
          213,
          214,
          215,
          216,
          217,
          218,
          219,
          220,
          221,
          222,
          223,
          224,
          225,
          226,
          227,
          228,
          229,
          230,
          231,
          232,
          233,
          234,
          235,
          236,
          237,
          238,
          239,
          240,
          241,
          242,
          243,
          244,
          245,
          246,
          247,
          248,
          249,
          250,
          251,
          252,
          253,
          254,
          255,
          256,
          257,
          258,
          259,
          260,
          261,
          262,
          263,
          264,
          265,
          266,
          267,
          268,
          269,
          270,
          271,
          272,
          273,
          274,
          275,
          276,
          277,
          278,
          279,
          280,
          281,
          282,
          283,
          284,
          285,
          286,
          287,
          288,
          289,
          290,
          291,
          292,
          293,
          294,
          295,
          296,
          297,
          298,
          299
         ],
         "y": [
          0.6175360957633901,
          0.6431277883468068,
          0.6431277883468068,
          0.6601674325884963,
          0.6626046453678102,
          0.6626046453678102,
          0.6626046453678102,
          0.6627838662839454,
          0.6628432871224501,
          0.6628432871224501,
          0.6628432871224501,
          0.6628432871224501,
          0.6628432871224501,
          0.6628432871224501,
          0.6628432871224501,
          0.6628432871224501,
          0.6628432871224501,
          0.6628432871224501,
          0.6628432871224501,
          0.6628432871224501,
          0.6628432871224501,
          0.6628432871224501,
          0.6628432871224501,
          0.6628432871224501,
          0.6628432871224501,
          0.6628432871224501,
          0.6628432871224501,
          0.6628432871224501,
          0.6628432871224501,
          0.6628432871224501,
          0.6628432871224501,
          0.6628432871224501,
          0.6628432871224501,
          0.6628432871224501,
          0.6628432871224501,
          0.6628432871224501,
          0.6628432871224501,
          0.6628432871224501,
          0.6628432871224501,
          0.6628432871224501,
          0.6692013168424532,
          0.6692013168424532,
          0.6692013168424532,
          0.6692013168424532,
          0.6692013168424532,
          0.6692013168424532,
          0.6692013168424532,
          0.6692013168424532,
          0.6692013168424532,
          0.6692013168424532,
          0.6692013168424532,
          0.6692013168424532,
          0.6692013168424532,
          0.6692013168424532,
          0.6692013168424532,
          0.6692013168424532,
          0.6692013168424532,
          0.6692013168424532,
          0.6692013168424532,
          0.6692013168424532,
          0.6692013168424532,
          0.6692013168424532,
          0.6692013168424532,
          0.6692013168424532,
          0.6692013168424532,
          0.6692013168424532,
          0.6692013168424532,
          0.6692013168424532,
          0.6692013168424532,
          0.6692013168424532,
          0.6692013168424532,
          0.6692013168424532,
          0.6692013168424532,
          0.6692013168424532,
          0.6692013168424532,
          0.6692013168424532,
          0.6692013168424532,
          0.6692013168424532,
          0.6692013168424532,
          0.6692013168424532,
          0.6692013168424532,
          0.6692013168424532,
          0.6692013168424532,
          0.6692013168424532,
          0.6692013168424532,
          0.6692013168424532,
          0.6692013168424532,
          0.6692013168424532,
          0.6692013168424532,
          0.6692013168424532,
          0.6692013168424532,
          0.6692013168424532,
          0.6692013168424532,
          0.6692013168424532,
          0.6692013168424532,
          0.6692013168424532,
          0.6692013168424532,
          0.6692013168424532,
          0.6692013168424532,
          0.6692013168424532,
          0.6692013168424532,
          0.6692013168424532,
          0.6692013168424532,
          0.6692013168424532,
          0.6692013168424532,
          0.6692013168424532,
          0.6692013168424532,
          0.6692013168424532,
          0.6692013168424532,
          0.6692013168424532,
          0.6692013168424532,
          0.6692013168424532,
          0.6692013168424532,
          0.6692013168424532,
          0.6692013168424532,
          0.6692013168424532,
          0.6692013168424532,
          0.6692013168424532,
          0.6692013168424532,
          0.6692013168424532,
          0.6692013168424532,
          0.6692013168424532,
          0.6692013168424532,
          0.6692013168424532,
          0.6692013168424532,
          0.6692013168424532,
          0.6692013168424532,
          0.6692013168424532,
          0.6692013168424532,
          0.6692013168424532,
          0.6692013168424532,
          0.6692013168424532,
          0.6692013168424532,
          0.6692013168424532,
          0.6692013168424532,
          0.6692013168424532,
          0.6692013168424532,
          0.6692013168424532,
          0.6692013168424532,
          0.6692013168424532,
          0.6692013168424532,
          0.6692013168424532,
          0.6692013168424532,
          0.6692013168424532,
          0.6692013168424532,
          0.6692013168424532,
          0.6692013168424532,
          0.6692013168424532,
          0.6692013168424532,
          0.6692013168424532,
          0.6692013168424532,
          0.6692013168424532,
          0.6692013168424532,
          0.6697102275722274,
          0.6697102275722274,
          0.6697102275722274,
          0.6697102275722274,
          0.6697102275722274,
          0.6697102275722274,
          0.6697102275722274,
          0.6697102275722274,
          0.6697102275722274,
          0.6697102275722274,
          0.6697102275722274,
          0.6697102275722274,
          0.6697102275722274,
          0.6697102275722274,
          0.6697102275722274,
          0.6697102275722274,
          0.6697102275722274,
          0.6697102275722274,
          0.6697102275722274,
          0.6697102275722274,
          0.6697102275722274,
          0.6697102275722274,
          0.6697102275722274,
          0.6697102275722274,
          0.6697102275722274,
          0.6697102275722274,
          0.6697102275722274,
          0.6697102275722274,
          0.6697102275722274,
          0.6697102275722274,
          0.6697102275722274,
          0.6697102275722274,
          0.6697102275722274,
          0.6697102275722274,
          0.6697102275722274,
          0.6697102275722274,
          0.6697102275722274,
          0.6697102275722274,
          0.6697102275722274,
          0.6697102275722274,
          0.6697102275722274,
          0.6697102275722274,
          0.6697102275722274,
          0.6697102275722274,
          0.6697102275722274,
          0.6697102275722274,
          0.6697102275722274,
          0.6697102275722274,
          0.6697102275722274,
          0.6697102275722274,
          0.6697102275722274,
          0.6697102275722274,
          0.6697102275722274,
          0.6697102275722274,
          0.6697102275722274,
          0.6697102275722274,
          0.6697102275722274,
          0.6697102275722274,
          0.6697102275722274,
          0.6697102275722274,
          0.6697102275722274,
          0.6697102275722274,
          0.6697102275722274,
          0.6697102275722274,
          0.6697102275722274,
          0.6697102275722274,
          0.6697102275722274,
          0.6697102275722274,
          0.6697102275722274,
          0.6697102275722274,
          0.6697102275722274,
          0.6697102275722274,
          0.6697102275722274,
          0.6697102275722274,
          0.6697102275722274,
          0.6697102275722274,
          0.6697102275722274,
          0.6697102275722274,
          0.6697102275722274,
          0.6697102275722274,
          0.6697102275722274,
          0.6697102275722274,
          0.6697102275722274,
          0.6697102275722274,
          0.6697102275722274,
          0.6697102275722274,
          0.6697102275722274,
          0.6697102275722274,
          0.6697102275722274,
          0.6697102275722274,
          0.6697102275722274,
          0.6697102275722274,
          0.6697102275722274,
          0.6697102275722274,
          0.6697102275722274,
          0.6697102275722274,
          0.6697102275722274,
          0.6697102275722274,
          0.6697102275722274,
          0.6697102275722274,
          0.6697102275722274,
          0.6697102275722274,
          0.6697102275722274,
          0.6697102275722274,
          0.6697102275722274,
          0.6697102275722274,
          0.6697102275722274,
          0.6697102275722274,
          0.6697102275722274,
          0.6697102275722274,
          0.6697102275722274,
          0.6697102275722274,
          0.6697102275722274,
          0.6697102275722274,
          0.6697102275722274,
          0.6697102275722274,
          0.6697102275722274,
          0.669919158907615,
          0.669919158907615,
          0.669919158907615,
          0.669919158907615,
          0.669919158907615,
          0.669919158907615,
          0.669919158907615,
          0.669919158907615,
          0.669919158907615,
          0.669919158907615,
          0.669919158907615,
          0.669919158907615,
          0.669919158907615,
          0.669919158907615,
          0.669919158907615,
          0.669919158907615,
          0.669919158907615,
          0.669919158907615,
          0.669919158907615,
          0.669919158907615,
          0.669919158907615,
          0.669919158907615,
          0.669919158907615,
          0.669919158907615,
          0.669919158907615,
          0.669919158907615,
          0.669919158907615,
          0.669919158907615,
          0.669919158907615,
          0.669919158907615
         ]
        },
        {
         "marker": {
          "color": "#cccccc"
         },
         "mode": "markers",
         "name": "Infeasible Trial",
         "showlegend": false,
         "type": "scatter",
         "x": [],
         "y": []
        }
       ],
       "layout": {
        "template": {
         "data": {
          "bar": [
           {
            "error_x": {
             "color": "#2a3f5f"
            },
            "error_y": {
             "color": "#2a3f5f"
            },
            "marker": {
             "line": {
              "color": "#E5ECF6",
              "width": 0.5
             },
             "pattern": {
              "fillmode": "overlay",
              "size": 10,
              "solidity": 0.2
             }
            },
            "type": "bar"
           }
          ],
          "barpolar": [
           {
            "marker": {
             "line": {
              "color": "#E5ECF6",
              "width": 0.5
             },
             "pattern": {
              "fillmode": "overlay",
              "size": 10,
              "solidity": 0.2
             }
            },
            "type": "barpolar"
           }
          ],
          "carpet": [
           {
            "aaxis": {
             "endlinecolor": "#2a3f5f",
             "gridcolor": "white",
             "linecolor": "white",
             "minorgridcolor": "white",
             "startlinecolor": "#2a3f5f"
            },
            "baxis": {
             "endlinecolor": "#2a3f5f",
             "gridcolor": "white",
             "linecolor": "white",
             "minorgridcolor": "white",
             "startlinecolor": "#2a3f5f"
            },
            "type": "carpet"
           }
          ],
          "choropleth": [
           {
            "colorbar": {
             "outlinewidth": 0,
             "ticks": ""
            },
            "type": "choropleth"
           }
          ],
          "contour": [
           {
            "colorbar": {
             "outlinewidth": 0,
             "ticks": ""
            },
            "colorscale": [
             [
              0,
              "#0d0887"
             ],
             [
              0.1111111111111111,
              "#46039f"
             ],
             [
              0.2222222222222222,
              "#7201a8"
             ],
             [
              0.3333333333333333,
              "#9c179e"
             ],
             [
              0.4444444444444444,
              "#bd3786"
             ],
             [
              0.5555555555555556,
              "#d8576b"
             ],
             [
              0.6666666666666666,
              "#ed7953"
             ],
             [
              0.7777777777777778,
              "#fb9f3a"
             ],
             [
              0.8888888888888888,
              "#fdca26"
             ],
             [
              1,
              "#f0f921"
             ]
            ],
            "type": "contour"
           }
          ],
          "contourcarpet": [
           {
            "colorbar": {
             "outlinewidth": 0,
             "ticks": ""
            },
            "type": "contourcarpet"
           }
          ],
          "heatmap": [
           {
            "colorbar": {
             "outlinewidth": 0,
             "ticks": ""
            },
            "colorscale": [
             [
              0,
              "#0d0887"
             ],
             [
              0.1111111111111111,
              "#46039f"
             ],
             [
              0.2222222222222222,
              "#7201a8"
             ],
             [
              0.3333333333333333,
              "#9c179e"
             ],
             [
              0.4444444444444444,
              "#bd3786"
             ],
             [
              0.5555555555555556,
              "#d8576b"
             ],
             [
              0.6666666666666666,
              "#ed7953"
             ],
             [
              0.7777777777777778,
              "#fb9f3a"
             ],
             [
              0.8888888888888888,
              "#fdca26"
             ],
             [
              1,
              "#f0f921"
             ]
            ],
            "type": "heatmap"
           }
          ],
          "heatmapgl": [
           {
            "colorbar": {
             "outlinewidth": 0,
             "ticks": ""
            },
            "colorscale": [
             [
              0,
              "#0d0887"
             ],
             [
              0.1111111111111111,
              "#46039f"
             ],
             [
              0.2222222222222222,
              "#7201a8"
             ],
             [
              0.3333333333333333,
              "#9c179e"
             ],
             [
              0.4444444444444444,
              "#bd3786"
             ],
             [
              0.5555555555555556,
              "#d8576b"
             ],
             [
              0.6666666666666666,
              "#ed7953"
             ],
             [
              0.7777777777777778,
              "#fb9f3a"
             ],
             [
              0.8888888888888888,
              "#fdca26"
             ],
             [
              1,
              "#f0f921"
             ]
            ],
            "type": "heatmapgl"
           }
          ],
          "histogram": [
           {
            "marker": {
             "pattern": {
              "fillmode": "overlay",
              "size": 10,
              "solidity": 0.2
             }
            },
            "type": "histogram"
           }
          ],
          "histogram2d": [
           {
            "colorbar": {
             "outlinewidth": 0,
             "ticks": ""
            },
            "colorscale": [
             [
              0,
              "#0d0887"
             ],
             [
              0.1111111111111111,
              "#46039f"
             ],
             [
              0.2222222222222222,
              "#7201a8"
             ],
             [
              0.3333333333333333,
              "#9c179e"
             ],
             [
              0.4444444444444444,
              "#bd3786"
             ],
             [
              0.5555555555555556,
              "#d8576b"
             ],
             [
              0.6666666666666666,
              "#ed7953"
             ],
             [
              0.7777777777777778,
              "#fb9f3a"
             ],
             [
              0.8888888888888888,
              "#fdca26"
             ],
             [
              1,
              "#f0f921"
             ]
            ],
            "type": "histogram2d"
           }
          ],
          "histogram2dcontour": [
           {
            "colorbar": {
             "outlinewidth": 0,
             "ticks": ""
            },
            "colorscale": [
             [
              0,
              "#0d0887"
             ],
             [
              0.1111111111111111,
              "#46039f"
             ],
             [
              0.2222222222222222,
              "#7201a8"
             ],
             [
              0.3333333333333333,
              "#9c179e"
             ],
             [
              0.4444444444444444,
              "#bd3786"
             ],
             [
              0.5555555555555556,
              "#d8576b"
             ],
             [
              0.6666666666666666,
              "#ed7953"
             ],
             [
              0.7777777777777778,
              "#fb9f3a"
             ],
             [
              0.8888888888888888,
              "#fdca26"
             ],
             [
              1,
              "#f0f921"
             ]
            ],
            "type": "histogram2dcontour"
           }
          ],
          "mesh3d": [
           {
            "colorbar": {
             "outlinewidth": 0,
             "ticks": ""
            },
            "type": "mesh3d"
           }
          ],
          "parcoords": [
           {
            "line": {
             "colorbar": {
              "outlinewidth": 0,
              "ticks": ""
             }
            },
            "type": "parcoords"
           }
          ],
          "pie": [
           {
            "automargin": true,
            "type": "pie"
           }
          ],
          "scatter": [
           {
            "fillpattern": {
             "fillmode": "overlay",
             "size": 10,
             "solidity": 0.2
            },
            "type": "scatter"
           }
          ],
          "scatter3d": [
           {
            "line": {
             "colorbar": {
              "outlinewidth": 0,
              "ticks": ""
             }
            },
            "marker": {
             "colorbar": {
              "outlinewidth": 0,
              "ticks": ""
             }
            },
            "type": "scatter3d"
           }
          ],
          "scattercarpet": [
           {
            "marker": {
             "colorbar": {
              "outlinewidth": 0,
              "ticks": ""
             }
            },
            "type": "scattercarpet"
           }
          ],
          "scattergeo": [
           {
            "marker": {
             "colorbar": {
              "outlinewidth": 0,
              "ticks": ""
             }
            },
            "type": "scattergeo"
           }
          ],
          "scattergl": [
           {
            "marker": {
             "colorbar": {
              "outlinewidth": 0,
              "ticks": ""
             }
            },
            "type": "scattergl"
           }
          ],
          "scattermapbox": [
           {
            "marker": {
             "colorbar": {
              "outlinewidth": 0,
              "ticks": ""
             }
            },
            "type": "scattermapbox"
           }
          ],
          "scatterpolar": [
           {
            "marker": {
             "colorbar": {
              "outlinewidth": 0,
              "ticks": ""
             }
            },
            "type": "scatterpolar"
           }
          ],
          "scatterpolargl": [
           {
            "marker": {
             "colorbar": {
              "outlinewidth": 0,
              "ticks": ""
             }
            },
            "type": "scatterpolargl"
           }
          ],
          "scatterternary": [
           {
            "marker": {
             "colorbar": {
              "outlinewidth": 0,
              "ticks": ""
             }
            },
            "type": "scatterternary"
           }
          ],
          "surface": [
           {
            "colorbar": {
             "outlinewidth": 0,
             "ticks": ""
            },
            "colorscale": [
             [
              0,
              "#0d0887"
             ],
             [
              0.1111111111111111,
              "#46039f"
             ],
             [
              0.2222222222222222,
              "#7201a8"
             ],
             [
              0.3333333333333333,
              "#9c179e"
             ],
             [
              0.4444444444444444,
              "#bd3786"
             ],
             [
              0.5555555555555556,
              "#d8576b"
             ],
             [
              0.6666666666666666,
              "#ed7953"
             ],
             [
              0.7777777777777778,
              "#fb9f3a"
             ],
             [
              0.8888888888888888,
              "#fdca26"
             ],
             [
              1,
              "#f0f921"
             ]
            ],
            "type": "surface"
           }
          ],
          "table": [
           {
            "cells": {
             "fill": {
              "color": "#EBF0F8"
             },
             "line": {
              "color": "white"
             }
            },
            "header": {
             "fill": {
              "color": "#C8D4E3"
             },
             "line": {
              "color": "white"
             }
            },
            "type": "table"
           }
          ]
         },
         "layout": {
          "annotationdefaults": {
           "arrowcolor": "#2a3f5f",
           "arrowhead": 0,
           "arrowwidth": 1
          },
          "autotypenumbers": "strict",
          "coloraxis": {
           "colorbar": {
            "outlinewidth": 0,
            "ticks": ""
           }
          },
          "colorscale": {
           "diverging": [
            [
             0,
             "#8e0152"
            ],
            [
             0.1,
             "#c51b7d"
            ],
            [
             0.2,
             "#de77ae"
            ],
            [
             0.3,
             "#f1b6da"
            ],
            [
             0.4,
             "#fde0ef"
            ],
            [
             0.5,
             "#f7f7f7"
            ],
            [
             0.6,
             "#e6f5d0"
            ],
            [
             0.7,
             "#b8e186"
            ],
            [
             0.8,
             "#7fbc41"
            ],
            [
             0.9,
             "#4d9221"
            ],
            [
             1,
             "#276419"
            ]
           ],
           "sequential": [
            [
             0,
             "#0d0887"
            ],
            [
             0.1111111111111111,
             "#46039f"
            ],
            [
             0.2222222222222222,
             "#7201a8"
            ],
            [
             0.3333333333333333,
             "#9c179e"
            ],
            [
             0.4444444444444444,
             "#bd3786"
            ],
            [
             0.5555555555555556,
             "#d8576b"
            ],
            [
             0.6666666666666666,
             "#ed7953"
            ],
            [
             0.7777777777777778,
             "#fb9f3a"
            ],
            [
             0.8888888888888888,
             "#fdca26"
            ],
            [
             1,
             "#f0f921"
            ]
           ],
           "sequentialminus": [
            [
             0,
             "#0d0887"
            ],
            [
             0.1111111111111111,
             "#46039f"
            ],
            [
             0.2222222222222222,
             "#7201a8"
            ],
            [
             0.3333333333333333,
             "#9c179e"
            ],
            [
             0.4444444444444444,
             "#bd3786"
            ],
            [
             0.5555555555555556,
             "#d8576b"
            ],
            [
             0.6666666666666666,
             "#ed7953"
            ],
            [
             0.7777777777777778,
             "#fb9f3a"
            ],
            [
             0.8888888888888888,
             "#fdca26"
            ],
            [
             1,
             "#f0f921"
            ]
           ]
          },
          "colorway": [
           "#636efa",
           "#EF553B",
           "#00cc96",
           "#ab63fa",
           "#FFA15A",
           "#19d3f3",
           "#FF6692",
           "#B6E880",
           "#FF97FF",
           "#FECB52"
          ],
          "font": {
           "color": "#2a3f5f"
          },
          "geo": {
           "bgcolor": "white",
           "lakecolor": "white",
           "landcolor": "#E5ECF6",
           "showlakes": true,
           "showland": true,
           "subunitcolor": "white"
          },
          "hoverlabel": {
           "align": "left"
          },
          "hovermode": "closest",
          "mapbox": {
           "style": "light"
          },
          "paper_bgcolor": "white",
          "plot_bgcolor": "#E5ECF6",
          "polar": {
           "angularaxis": {
            "gridcolor": "white",
            "linecolor": "white",
            "ticks": ""
           },
           "bgcolor": "#E5ECF6",
           "radialaxis": {
            "gridcolor": "white",
            "linecolor": "white",
            "ticks": ""
           }
          },
          "scene": {
           "xaxis": {
            "backgroundcolor": "#E5ECF6",
            "gridcolor": "white",
            "gridwidth": 2,
            "linecolor": "white",
            "showbackground": true,
            "ticks": "",
            "zerolinecolor": "white"
           },
           "yaxis": {
            "backgroundcolor": "#E5ECF6",
            "gridcolor": "white",
            "gridwidth": 2,
            "linecolor": "white",
            "showbackground": true,
            "ticks": "",
            "zerolinecolor": "white"
           },
           "zaxis": {
            "backgroundcolor": "#E5ECF6",
            "gridcolor": "white",
            "gridwidth": 2,
            "linecolor": "white",
            "showbackground": true,
            "ticks": "",
            "zerolinecolor": "white"
           }
          },
          "shapedefaults": {
           "line": {
            "color": "#2a3f5f"
           }
          },
          "ternary": {
           "aaxis": {
            "gridcolor": "white",
            "linecolor": "white",
            "ticks": ""
           },
           "baxis": {
            "gridcolor": "white",
            "linecolor": "white",
            "ticks": ""
           },
           "bgcolor": "#E5ECF6",
           "caxis": {
            "gridcolor": "white",
            "linecolor": "white",
            "ticks": ""
           }
          },
          "title": {
           "x": 0.05
          },
          "xaxis": {
           "automargin": true,
           "gridcolor": "white",
           "linecolor": "white",
           "ticks": "",
           "title": {
            "standoff": 15
           },
           "zerolinecolor": "white",
           "zerolinewidth": 2
          },
          "yaxis": {
           "automargin": true,
           "gridcolor": "white",
           "linecolor": "white",
           "ticks": "",
           "title": {
            "standoff": 15
           },
           "zerolinecolor": "white",
           "zerolinewidth": 2
          }
         }
        },
        "title": {
         "text": "Optimization History Plot"
        },
        "xaxis": {
         "title": {
          "text": "Trial"
         }
        },
        "yaxis": {
         "title": {
          "text": "Objective Value"
         }
        }
       }
      }
     },
     "metadata": {},
     "output_type": "display_data"
    }
   ],
   "source": [
    "optuna.visualization.plot_optimization_history(study)"
   ]
  }
 ],
 "metadata": {
  "kernelspec": {
   "display_name": "Python 3",
   "language": "python",
   "name": "python3"
  },
  "language_info": {
   "codemirror_mode": {
    "name": "ipython",
    "version": 3
   },
   "file_extension": ".py",
   "mimetype": "text/x-python",
   "name": "python",
   "nbconvert_exporter": "python",
   "pygments_lexer": "ipython3",
   "version": "3.11.2"
  }
 },
 "nbformat": 4,
 "nbformat_minor": 2
}
