{
 "cells": [
  {
   "cell_type": "markdown",
   "metadata": {},
   "source": [
    "##  Extreme Gradient Boosting Outlier Detection\n"
   ]
  },
  {
   "cell_type": "markdown",
   "metadata": {},
   "source": [
    "Take the advantage of both supervised and unsupervised learning: utiliser la capacité des méthodes de classification non supervisée pour détercter les outlier et la précision des techniques de classfications supervisée pour la prévision avec précision. "
   ]
  },
  {
   "cell_type": "markdown",
   "metadata": {},
   "source": [
    "XGBOD has three steps:\n",
    "\n",
    "1- unsupervised learning to create new features, called Transformed Outlier Scores (TOS). includes KNN, AvgKNN, LOF, iForest, HBOS, and OCSVM\n",
    "\n",
    "2- concatenates the new features with the original features, then applies Pearson’s correlation coefficients to keep the useful features\n",
    "\n",
    "3- trains an XGBoost classifier"
   ]
  },
  {
   "cell_type": "code",
   "execution_count": null,
   "metadata": {},
   "outputs": [],
   "source": [
    "from pyod.models.xgbod import XGBOD"
   ]
  },
  {
   "cell_type": "code",
   "execution_count": null,
   "metadata": {},
   "outputs": [],
   "source": [
    "# Diviser les données en ensembles d'entraînement et de test pour X et Y\n",
    "X = data_no_nan_for_XGBOD.drop('Binar OP130_Resultat_Global_v', axis =1)  # Caractéristiques\n",
    "Y = data_no_nan_for_XGBOD['Binar OP130_Resultat_Global_v']  # Variable cible\n",
    "\n",
    "X_train_XGBOD, X_test_XGBOD, Y_train_XGBOD, Y_test_XGBOD = train_test_split(X, Y, test_size=0.2, random_state=42)"
   ]
  },
  {
   "cell_type": "code",
   "execution_count": null,
   "metadata": {},
   "outputs": [
    {
     "data": {
      "text/plain": [
       "XGBOD(base_score=0.5, booster='gbtree', colsample_bylevel=1,\n",
       "   colsample_bytree=1,\n",
       "   estimator_list=[KNN(algorithm='auto', contamination=0.1, leaf_size=30, method='largest',\n",
       "  metric='minkowski', metric_params=None, n_jobs=1, n_neighbors=1, p=2,\n",
       "  radius=1.0), LOF(algorithm='auto', contamination=0.1, leaf_size=30, metric='minkowski',\n",
       "  metric_params=None, n_jobs=1, n_neighbors=1, no..._features=1.0,\n",
       "    max_samples='auto', n_estimators=200, n_jobs=1, random_state=100,\n",
       "    verbose=0)],\n",
       "   gamma=0, learning_rate=0.1, max_delta_step=0, max_depth=3,\n",
       "   min_child_weight=1, n_estimators=100, n_jobs=1, nthread=None,\n",
       "   objective='binary:logistic', random_state=100, reg_alpha=0,\n",
       "   reg_lambda=1, scale_pos_weight=1, silent=True,\n",
       "   standardization_flag_list=[True, True, True, True, True, True, True, True, True, True, True, True, True, True, True, True, False, False, False, False, False, False, False, True, True, True, True, True, True, True, True, True, True, True, False, False, False, False, False, False, False],\n",
       "   subsample=1)"
      ]
     },
     "metadata": {},
     "output_type": "display_data"
    }
   ],
   "source": [
    "xgbod = XGBOD(n_components=3,random_state=100) \n",
    "xgbod.fit(X_train_XGBOD,Y_train_XGBOD)"
   ]
  },
  {
   "cell_type": "code",
   "execution_count": null,
   "metadata": {},
   "outputs": [
    {
     "name": "stdout",
     "output_type": "stream",
     "text": [
      "The training data: {0: 12710}\n",
      "The test data: {0: 3178}\n"
     ]
    }
   ],
   "source": [
    "# get the prediction labels and outlier scores of the training data\n",
    "y_train_pred = xgbod.labels_  # binary labels (0: inliers, 1: outliers)\n",
    "y_train_scores = xgbod.decision_scores_  # raw outlier scores\n",
    "y_train_scores = xgbod.decision_function(X_train_XGBOD)\n",
    "\n",
    "# get the prediction on the test data\n",
    "y_test_pred = xgbod.predict(X_test_XGBOD)  # outlier labels (0 or 1)\n",
    "y_test_scores = xgbod.decision_function(X_test_XGBOD)  # outlier scores\n",
    "\n",
    "def count_stat(vector):\n",
    "    # Because it is '0' and '1', we can run a count statistic. \n",
    "    unique, counts = np.unique(vector, return_counts=True)\n",
    "    return dict(zip(unique, counts))\n",
    "\n",
    "print(\"The training data:\", count_stat(y_train_pred))\n",
    "print(\"The test data:\", count_stat(y_test_pred))"
   ]
  },
  {
   "cell_type": "code",
   "execution_count": null,
   "metadata": {},
   "outputs": [
    {
     "data": {
      "text/html": [
       "<div>\n",
       "<style scoped>\n",
       "    .dataframe tbody tr th:only-of-type {\n",
       "        vertical-align: middle;\n",
       "    }\n",
       "\n",
       "    .dataframe tbody tr th {\n",
       "        vertical-align: top;\n",
       "    }\n",
       "\n",
       "    .dataframe thead th {\n",
       "        text-align: right;\n",
       "    }\n",
       "</style>\n",
       "<table border=\"1\" class=\"dataframe\">\n",
       "  <thead>\n",
       "    <tr style=\"text-align: right;\">\n",
       "      <th>Pred</th>\n",
       "      <th>0</th>\n",
       "    </tr>\n",
       "    <tr>\n",
       "      <th>Actual</th>\n",
       "      <th></th>\n",
       "    </tr>\n",
       "  </thead>\n",
       "  <tbody>\n",
       "    <tr>\n",
       "      <th>0</th>\n",
       "      <td>3150</td>\n",
       "    </tr>\n",
       "    <tr>\n",
       "      <th>1</th>\n",
       "      <td>28</td>\n",
       "    </tr>\n",
       "  </tbody>\n",
       "</table>\n",
       "</div>"
      ],
      "text/plain": [
       "Pred       0\n",
       "Actual      \n",
       "0       3150\n",
       "1         28"
      ]
     },
     "metadata": {},
     "output_type": "display_data"
    }
   ],
   "source": [
    "Actual_pred = pd.DataFrame({'Actual': Y_test_XGBOD, 'Pred': y_test_pred})\n",
    "pd.crosstab(Actual_pred['Actual'],Actual_pred['Pred'])"
   ]
  },
  {
   "cell_type": "code",
   "execution_count": null,
   "metadata": {},
   "outputs": [
    {
     "data": {
      "text/html": [
       "<div>\n",
       "<style scoped>\n",
       "    .dataframe tbody tr th:only-of-type {\n",
       "        vertical-align: middle;\n",
       "    }\n",
       "\n",
       "    .dataframe tbody tr th {\n",
       "        vertical-align: top;\n",
       "    }\n",
       "\n",
       "    .dataframe thead th {\n",
       "        text-align: right;\n",
       "    }\n",
       "</style>\n",
       "<table border=\"1\" class=\"dataframe\">\n",
       "  <thead>\n",
       "    <tr style=\"text-align: right;\">\n",
       "      <th></th>\n",
       "      <th>Group</th>\n",
       "      <th>Count</th>\n",
       "      <th>Count %</th>\n",
       "      <th>OP070_V_1_angle_value</th>\n",
       "      <th>OP090_SnapRingPeakForce_value</th>\n",
       "      <th>OP070_V_2_angle_value</th>\n",
       "      <th>OP120_Rodage_I_mesure_value</th>\n",
       "      <th>OP090_SnapRingFinalStroke_value</th>\n",
       "      <th>OP110_Vissage_M8_torque_value</th>\n",
       "      <th>OP100_Capuchon_insertion_mesure</th>\n",
       "      <th>OP120_Rodage_U_mesure_value</th>\n",
       "      <th>OP070_V_1_torque_value</th>\n",
       "      <th>OP090_StartLinePeakForce_value</th>\n",
       "      <th>OP110_Vissage_M8_angle_value</th>\n",
       "      <th>OP090_SnapRingMidPointForce_val</th>\n",
       "      <th>OP070_V_2_torque_value</th>\n",
       "      <th>pred</th>\n",
       "    </tr>\n",
       "  </thead>\n",
       "  <tbody>\n",
       "    <tr>\n",
       "      <th>0</th>\n",
       "      <td>Normal</td>\n",
       "      <td>12710</td>\n",
       "      <td>100.0</td>\n",
       "      <td>158.386703</td>\n",
       "      <td>150.592286</td>\n",
       "      <td>157.723619</td>\n",
       "      <td>113.08681</td>\n",
       "      <td>11.994315</td>\n",
       "      <td>12.264671</td>\n",
       "      <td>0.388153</td>\n",
       "      <td>11.970401</td>\n",
       "      <td>6.477945</td>\n",
       "      <td>22.651002</td>\n",
       "      <td>17.527537</td>\n",
       "      <td>95.790449</td>\n",
       "      <td>6.4821</td>\n",
       "      <td>0.0</td>\n",
       "    </tr>\n",
       "  </tbody>\n",
       "</table>\n",
       "</div>"
      ],
      "text/plain": [
       "    Group  Count  Count %  OP070_V_1_angle_value   \n",
       "0  Normal  12710    100.0             158.386703  \\\n",
       "\n",
       "   OP090_SnapRingPeakForce_value  OP070_V_2_angle_value   \n",
       "0                     150.592286             157.723619  \\\n",
       "\n",
       "   OP120_Rodage_I_mesure_value  OP090_SnapRingFinalStroke_value   \n",
       "0                    113.08681                        11.994315  \\\n",
       "\n",
       "   OP110_Vissage_M8_torque_value  OP100_Capuchon_insertion_mesure   \n",
       "0                      12.264671                         0.388153  \\\n",
       "\n",
       "   OP120_Rodage_U_mesure_value  OP070_V_1_torque_value   \n",
       "0                    11.970401                6.477945  \\\n",
       "\n",
       "   OP090_StartLinePeakForce_value  OP110_Vissage_M8_angle_value   \n",
       "0                       22.651002                     17.527537  \\\n",
       "\n",
       "   OP090_SnapRingMidPointForce_val  OP070_V_2_torque_value  pred  \n",
       "0                        95.790449                  6.4821   0.0  "
      ]
     },
     "metadata": {},
     "output_type": "display_data"
    }
   ],
   "source": [
    "# Let's see how many '0's and '1's.\n",
    "df_train = pd.DataFrame(X_train_XGBOD)\n",
    "df_columns = df_train.columns\n",
    "df_train['pred'] = y_train_pred\n",
    "df_train['Group'] = np.where(df_train['pred']==1, 'Outlier','Normal')\n",
    "\n",
    "# Now let's show the summary statistics:\n",
    "cnt = df_train.groupby('Group')['pred'].count().reset_index().rename(columns={'pred':'Count'})\n",
    "cnt['Count %'] = (cnt['Count'] / cnt['Count'].sum()) * 100 # The count and count %\n",
    "stat = df_train.groupby('Group').mean().reset_index() # The avg.\n",
    "cnt.merge(stat, left_on='Group',right_on='Group') # Put the count and the avg. together\n"
   ]
  }
 ],
 "metadata": {
  "language_info": {
   "name": "python"
  }
 },
 "nbformat": 4,
 "nbformat_minor": 2
}
