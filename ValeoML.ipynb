{
 "cells": [
  {
   "cell_type": "markdown",
   "metadata": {},
   "source": [
    "## I. Importing data"
   ]
  },
  {
   "cell_type": "code",
   "execution_count": 19,
   "metadata": {},
   "outputs": [],
   "source": [
    "import pandas as pd\n",
    "data_x = pd.read_csv('traininginputs.csv')\n",
    "data_y = pd.read_csv('trainingoutput.csv')"
   ]
  },
  {
   "cell_type": "markdown",
   "metadata": {},
   "source": [
    "## II. Cleaning data "
   ]
  },
  {
   "cell_type": "code",
   "execution_count": 20,
   "metadata": {},
   "outputs": [],
   "source": [
    "data = pd.merge(data_x, data_y, on='PROC_TRACEINFO', how ='inner')"
   ]
  },
  {
   "cell_type": "markdown",
   "metadata": {},
   "source": [
    "Nous explorant notre base de donnée afin de se faire une idée sur son contenu. Pour cela commencons par voir les dimensions de notre dataset (nombre d'observations et de variables):"
   ]
  },
  {
   "cell_type": "code",
   "execution_count": 21,
   "metadata": {},
   "outputs": [
    {
     "name": "stdout",
     "output_type": "stream",
     "text": [
      "Nbr de lignes : 34515\n",
      "Nbr de colonnes : 15\n"
     ]
    }
   ],
   "source": [
    "nbr_lignes, nbr_colonnes = data.shape\n",
    "print(\"Nbr de lignes :\", nbr_lignes )\n",
    "print(\"Nbr de colonnes :\",nbr_colonnes )"
   ]
  },
  {
   "cell_type": "markdown",
   "metadata": {},
   "source": [
    "Nous avons donc 14 variables pour 34.515 individus. "
   ]
  },
  {
   "cell_type": "markdown",
   "metadata": {},
   "source": [
    "Vérifions s'il y a des valeurs manquantes."
   ]
  },
  {
   "cell_type": "code",
   "execution_count": 22,
   "metadata": {},
   "outputs": [
    {
     "data": {
      "text/plain": [
       "PROC_TRACEINFO                         0\n",
       "OP070_V_1_angle_value                  0\n",
       "OP090_SnapRingPeakForce_value          0\n",
       "OP070_V_2_angle_value                  0\n",
       "OP120_Rodage_I_mesure_value            0\n",
       "OP090_SnapRingFinalStroke_value        0\n",
       "OP110_Vissage_M8_torque_value          0\n",
       "OP100_Capuchon_insertion_mesure    18627\n",
       "OP120_Rodage_U_mesure_value            0\n",
       "OP070_V_1_torque_value                 0\n",
       "OP090_StartLinePeakForce_value         0\n",
       "OP110_Vissage_M8_angle_value           0\n",
       "OP090_SnapRingMidPointForce_val        0\n",
       "OP070_V_2_torque_value                 0\n",
       "Binar OP130_Resultat_Global_v          0\n",
       "dtype: int64"
      ]
     },
     "execution_count": 22,
     "metadata": {},
     "output_type": "execute_result"
    }
   ],
   "source": [
    "data.isna().sum()"
   ]
  },
  {
   "cell_type": "markdown",
   "metadata": {},
   "source": [
    "Il semblerait que la variable 'OP100_Capuchon_insertion_mesure' compte 18.627 valeurs manquantes soit pour 53% des observations. Dans ce cas il serait difficile et pas pertinant de remplacer ces valeurs manquantes. Deux options s'offrirons a nous : utiliser des modèles qui gèrent les valeurs manquantes ou tout simplement supprimer cette variable. Les deux options seront explorées."
   ]
  },
  {
   "cell_type": "code",
   "execution_count": 23,
   "metadata": {},
   "outputs": [
    {
     "name": "stdout",
     "output_type": "stream",
     "text": [
      "PROC_TRACEINFO                      object\n",
      "OP070_V_1_angle_value              float64\n",
      "OP090_SnapRingPeakForce_value      float64\n",
      "OP070_V_2_angle_value              float64\n",
      "OP120_Rodage_I_mesure_value        float64\n",
      "OP090_SnapRingFinalStroke_value    float64\n",
      "OP110_Vissage_M8_torque_value      float64\n",
      "OP100_Capuchon_insertion_mesure    float64\n",
      "OP120_Rodage_U_mesure_value        float64\n",
      "OP070_V_1_torque_value             float64\n",
      "OP090_StartLinePeakForce_value     float64\n",
      "OP110_Vissage_M8_angle_value       float64\n",
      "OP090_SnapRingMidPointForce_val    float64\n",
      "OP070_V_2_torque_value             float64\n",
      "Binar OP130_Resultat_Global_v        int64\n",
      "dtype: object\n"
     ]
    }
   ],
   "source": [
    "type_col = data.dtypes\n",
    "print(type_col)"
   ]
  },
  {
   "cell_type": "markdown",
   "metadata": {},
   "source": [
    "La variable PROC_TRACEINFO est sous format 'object' et n a aucun interet. L énnoncé confirme qu il s agit Id de pieces. Nous décidons donc de la supprimer:"
   ]
  },
  {
   "cell_type": "code",
   "execution_count": 24,
   "metadata": {},
   "outputs": [],
   "source": [
    "data = data.drop('PROC_TRACEINFO', axis =1 )"
   ]
  },
  {
   "cell_type": "markdown",
   "metadata": {},
   "source": [
    "OK toutes les variables sont quantitatives. \n",
    "Par contre notre prédicteur (Binar OP130_Resultat_Global_v) devrait etre une variable catégorielle a deux modalités et non une variable continue. Nous procédons donc au changement de son type."
   ]
  },
  {
   "cell_type": "code",
   "execution_count": 25,
   "metadata": {},
   "outputs": [
    {
     "name": "stdout",
     "output_type": "stream",
     "text": [
      "category\n"
     ]
    }
   ],
   "source": [
    "data['Binar OP130_Resultat_Global_v'] = data['Binar OP130_Resultat_Global_v'].astype('category')\n",
    "print(data['Binar OP130_Resultat_Global_v'].dtype)"
   ]
  },
  {
   "cell_type": "markdown",
   "metadata": {},
   "source": [
    "## III. Analyse des données "
   ]
  },
  {
   "cell_type": "markdown",
   "metadata": {},
   "source": [
    "L'analyse de donnée est un travail déterminant pour la bonne compréhension de nos données et permet parfois de mieux aiguiller le travail de modélisation. L'analyse de données permet d'étudier aussi bien la relation entre les différentes variables mais aussi de se faire une idée sur la population (exemple son homogénéité). Dans le cas ou l'on a une population hétérogène, il serait pertinant de créer plusieurs groupes d'observations, dans ce cas deux solutions sont envisageables : développer un modèle par groupe homoène d'invidus , ou encore rajouter une variable dans notre base de donnée qui porterait le groupe auquel appartiendrait chaque observation. L'inconvénient de cette stratégie est que pour chaque nouvelle observation , il faudra tout d'abord déterminer le groupe auquel elle appartient avant de l'intégrer dans le modèle."
   ]
  },
  {
   "cell_type": "code",
   "execution_count": 26,
   "metadata": {},
   "outputs": [
    {
     "name": "stdout",
     "output_type": "stream",
     "text": [
      "       OP070_V_1_angle_value  OP090_SnapRingPeakForce_value  \\\n",
      "count           34515.000000                   34515.000000   \n",
      "mean              159.906922                     156.915055   \n",
      "std                15.662650                      11.271492   \n",
      "min               101.800000                       0.000000   \n",
      "25%               148.700000                     149.210000   \n",
      "50%               158.000000                     156.180000   \n",
      "75%               169.300000                     164.380000   \n",
      "max               198.300000                     196.920000   \n",
      "\n",
      "       OP070_V_2_angle_value  OP120_Rodage_I_mesure_value  \\\n",
      "count           34515.000000                 34515.000000   \n",
      "mean              159.618236                   113.350222   \n",
      "std                15.091490                     3.528522   \n",
      "min                82.000000                    99.990000   \n",
      "25%               149.400000                   111.040000   \n",
      "50%               158.700000                   113.160000   \n",
      "75%               168.900000                   115.380000   \n",
      "max               198.100000                   177.950000   \n",
      "\n",
      "       OP090_SnapRingFinalStroke_value  OP110_Vissage_M8_torque_value  \\\n",
      "count                     34515.000000                   34515.000000   \n",
      "mean                         11.970190                      12.256785   \n",
      "std                           0.169873                       0.065319   \n",
      "min                           0.000000                      12.030000   \n",
      "25%                          11.850000                      12.210000   \n",
      "50%                          12.040000                      12.260000   \n",
      "75%                          12.080000                      12.300000   \n",
      "max                          12.190000                      12.500000   \n",
      "\n",
      "       OP100_Capuchon_insertion_mesure  OP120_Rodage_U_mesure_value  \\\n",
      "count                     15888.000000                 34515.000000   \n",
      "mean                          0.388173                    11.971027   \n",
      "std                           0.024425                     0.003050   \n",
      "min                           0.240000                    11.970000   \n",
      "25%                           0.380000                    11.970000   \n",
      "50%                           0.390000                    11.970000   \n",
      "75%                           0.410000                    11.970000   \n",
      "max                           0.420000                    11.990000   \n",
      "\n",
      "       OP070_V_1_torque_value  OP090_StartLinePeakForce_value  \\\n",
      "count            34515.000000                    34515.000000   \n",
      "mean                 6.548403                       23.630152   \n",
      "std                  0.097602                        2.546341   \n",
      "min                  5.670000                        0.000000   \n",
      "25%                  6.410000                       22.280000   \n",
      "50%                  6.610000                       23.880000   \n",
      "75%                  6.620000                       25.290000   \n",
      "max                  6.670000                       43.410000   \n",
      "\n",
      "       OP110_Vissage_M8_angle_value  OP090_SnapRingMidPointForce_val  \\\n",
      "count                  34515.000000                     34515.000000   \n",
      "mean                      17.878398                        97.700978   \n",
      "std                        6.785079                         6.837714   \n",
      "min                        6.300000                         0.000000   \n",
      "25%                       13.500000                        94.310000   \n",
      "50%                       16.400000                        98.500000   \n",
      "75%                       20.200000                       102.230000   \n",
      "max                       84.600000                       127.300000   \n",
      "\n",
      "       OP070_V_2_torque_value  \n",
      "count            34515.000000  \n",
      "mean                 6.550867  \n",
      "std                  0.094814  \n",
      "min                  5.740000  \n",
      "25%                  6.420000  \n",
      "50%                  6.610000  \n",
      "75%                  6.610000  \n",
      "max                  6.670000  \n"
     ]
    }
   ],
   "source": [
    "print(data.describe())"
   ]
  },
  {
   "cell_type": "markdown",
   "metadata": {},
   "source": [
    "Contenu de la présence de valeurs manquantes dans l une de nos varibles nous décidons de partir un XGboost directement en premier essai car il intégre la possibilité de gestion de valeurs manquantes."
   ]
  },
  {
   "cell_type": "markdown",
   "metadata": {},
   "source": [
    "# IV. Modélisation"
   ]
  },
  {
   "cell_type": "code",
   "execution_count": 27,
   "metadata": {},
   "outputs": [],
   "source": [
    "import xgboost as xgb\n",
    "from sklearn.model_selection import train_test_split, cross_val_score, GridSearchCV\n",
    "from sklearn.metrics import make_scorer, roc_auc_score"
   ]
  },
  {
   "cell_type": "markdown",
   "metadata": {},
   "source": [
    "Séparer les données en prédicteur (y) / variables prédictives (X) :"
   ]
  },
  {
   "cell_type": "code",
   "execution_count": 28,
   "metadata": {},
   "outputs": [],
   "source": [
    "y = data['Binar OP130_Resultat_Global_v']\n",
    "X = data.drop('Binar OP130_Resultat_Global_v', axis =1)"
   ]
  },
  {
   "cell_type": "markdown",
   "metadata": {},
   "source": [
    "Nous séparons notre dataset en train/test en choisissant d'allouer 20% aux données test.  "
   ]
  },
  {
   "cell_type": "code",
   "execution_count": 29,
   "metadata": {},
   "outputs": [],
   "source": [
    "X_train, X_test, y_train, y_test= train_test_split(X, y,test_size=0.2, random_state=123)"
   ]
  },
  {
   "cell_type": "markdown",
   "metadata": {},
   "source": [
    "### Option 1 : modélisation avec XG Boost:"
   ]
  },
  {
   "cell_type": "markdown",
   "metadata": {},
   "source": [
    "XGBoost, en tant qu'algorithme de boosting basé sur des arbres de décision, n'a  pas besoin de centrer ou de réduire les données en amont. Nous procédons donc directement a la modélisation. "
   ]
  },
  {
   "cell_type": "markdown",
   "metadata": {},
   "source": [
    "Par défaut, XGBoost est capable de gérer les valeurs manquantes automatiquement."
   ]
  },
  {
   "cell_type": "markdown",
   "metadata": {},
   "source": [
    "#### 1.1 Recherche de paramètres avec la méthode dite 'brute force': "
   ]
  },
  {
   "cell_type": "code",
   "execution_count": 40,
   "metadata": {},
   "outputs": [
    {
     "name": "stdout",
     "output_type": "stream",
     "text": [
      "Fitting 5 folds for each of 3645 candidates, totalling 18225 fits\n",
      "Meilleurs hyperparamètres: {'colsample_bytree': 0.8, 'gamma': 0.1, 'learning_rate': 0.06, 'max_depth': 4, 'min_child_weight': 1, 'n_estimators': 100, 'subsample': 1.0}\n"
     ]
    }
   ],
   "source": [
    "# définition du modèle xgboost\n",
    "\n",
    "model = xgb.XGBClassifier()\n",
    "\n",
    "# Spécifiez la grille des hyperparamètres à explorer\n",
    "param_grid = {\n",
    "    'learning_rate': [0.055, 0.066 ,0.06, 0.2, 0.3],\n",
    "    'n_estimators': [50, 100, 200],\n",
    "    'max_depth': [3, 4, 5,6],\n",
    "    'min_child_weight': [1, 2, 3],\n",
    "    'gamma': [0.08, 0.1, 0.2],\n",
    "    'subsample': [0.8, 0.9, 1.0],\n",
    "    'colsample_bytree': [0.8, 0.9, 0.7],\n",
    "}\n",
    "\n",
    "# Créez un objet GridSearchCV pour la recherche par grille\n",
    "grid_search = GridSearchCV(model, param_grid, scoring='roc_auc', cv=5, verbose=1, n_jobs=-1)\n",
    "\n",
    "# Entraînez le modèle en utilisant la recherche par grille\n",
    "grid_search.fit(X_train, y_train)\n",
    "\n",
    "# Affichez les meilleurs hyperparamètres trouvés\n",
    "print(\"Meilleurs hyperparamètres:\", grid_search.best_params_)\n"
   ]
  },
  {
   "cell_type": "code",
   "execution_count": null,
   "metadata": {},
   "outputs": [],
   "source": []
  },
  {
   "cell_type": "code",
   "execution_count": 41,
   "metadata": {},
   "outputs": [
    {
     "name": "stdout",
     "output_type": "stream",
     "text": [
      "ROC AUC Score: 0.7066849126907246\n"
     ]
    }
   ],
   "source": [
    "best_params = grid_search.best_params_ #enregistre les meilleurs paramètres trouvés.\n",
    "\n",
    "best_model = xgb.XGBClassifier(**best_params)  # Remplacez XGBClassifier par le modèle que vous utilisez\n",
    "\n",
    "best_model.fit(X_train, y_train) #entrainer le modèle avec les meilleurs paramètres trouvés.\n",
    "\n",
    "y_pred_proba = best_model.predict_proba(X_test)[:, 1]  # prédire sur la partie X_test par vos données de test\n",
    "\n",
    "roc_auc = roc_auc_score(y_test, y_pred_proba)  # Remplacez y_test par vos étiquettes de test\n",
    "\n",
    "print(\"ROC AUC Score:\", roc_auc)\n",
    "\n"
   ]
  },
  {
   "cell_type": "markdown",
   "metadata": {},
   "source": [
    "Ok 0.61\n",
    "Ok 0.6955\n",
    "ROC AUC Score: 0.7066849126907246 -> Meilleurs hyperparamètres: {'colsample_bytree': 0.8, 'gamma': 0.1, 'learning_rate': 0.06, 'max_depth': 4, 'min_child_weight': 1, 'n_estimators': 100, 'subsample': 1.0}\n"
   ]
  }
 ],
 "metadata": {
  "kernelspec": {
   "display_name": "tensorflow3",
   "language": "python",
   "name": "python3"
  },
  "language_info": {
   "codemirror_mode": {
    "name": "ipython",
    "version": 3
   },
   "file_extension": ".py",
   "mimetype": "text/x-python",
   "name": "python",
   "nbconvert_exporter": "python",
   "pygments_lexer": "ipython3",
   "version": "3.10.12"
  },
  "orig_nbformat": 4
 },
 "nbformat": 4,
 "nbformat_minor": 2
}
